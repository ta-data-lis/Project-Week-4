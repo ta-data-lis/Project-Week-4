{
 "cells": [
  {
   "cell_type": "code",
   "execution_count": 1,
   "metadata": {},
   "outputs": [],
   "source": [
    "#importing libraries\n",
    "import pandas as pd\n",
    "import numpy as np\n",
    "import seaborn as sns\n",
    "import matplotlib.pyplot as plt"
   ]
  },
  {
   "cell_type": "code",
   "execution_count": 2,
   "metadata": {},
   "outputs": [
    {
     "data": {
      "text/plain": [
       "'Borough\\tBorough\\nDevelopment Name\\tDevelopment name\\nLocation\\t\"Building number. \\nIn order to run an analysis by building, you can use a combination of TDS and building number which gives a unique identifier for each building\"\\nMeter AMR\\tIs the meter Automatic Meter Reading (AMR), Interval or none\\nMeter Scope\\tThe buildings or areas the account and meter supply\\nTDS #\\tTDS (Tenant Data System) number is the unique identifier for all NCYHA developments. It is recommended to use it in order to run analysis by development. The TDS is also the unique link between NYCHA data sets.\\nEDP\\tNYCHA Electronic Data Processing. Number used to identify individual NYCHA developments. EDP is used by NYCHA only to link data issued from a different system (the energy management system that was used by NYCHA before 2010). It is recommended to use the TDS # as a unique identifier of each development.\\nRC Code\\t\"NYCHA budget responsibility code.  Code representing a specific development.\\nFunding Source\\t\"The development’s funding source including Federal,Mixed Finance, or an indication that the facility is a non development facility which means a non residential facility.\"\\nAMP number\\tAbbreviation for Asset Management Project (AMP) numbers.  HUD Development asset tracking number.  An AMP number can consist of more than one development.\\nVendor Name\\tUtility vendor name\\nRevenue Month\\tYear and month of bill: 2016-01\\nService Start Date\\tBill start date\\nService End Date\\tBill end date\\nnumber days\\tNumber of days on bill\\nMeter Number\\tMeter number\\nEstimated\\tMeter was not read for the time period. The consumption and cost are estimated. (Data is updated with actual reads once the meter is read)\\nCurrent Charges\\tTotal costs\\nRate Class\\tThe rate applied to the account.  Details about each rate (dollar value) are available on the vendor web site.\\nBill Analyzed\\tThe bill was analyzed for billing errors by NYCHA\\'s Utility Management system during the billing period\\nConsumption (KWH)\\tTotal KWH consumption\\nKWH Charges\\tTotal KWH charges\\nConsumption (KW)\\tTotal KW consumption\\nKW Charges\\tTotal KW charges\\nOther charges\\tTotal other charges\\n'"
      ]
     },
     "execution_count": 2,
     "metadata": {},
     "output_type": "execute_result"
    }
   ],
   "source": [
    "# Data columns information\n",
    "'''Borough\tBorough\n",
    "Development Name\tDevelopment name\n",
    "Location\t\"Building number. \n",
    "In order to run an analysis by building, you can use a combination of TDS and building number which gives a unique identifier for each building\"\n",
    "Meter AMR\tIs the meter Automatic Meter Reading (AMR), Interval or none\n",
    "Meter Scope\tThe buildings or areas the account and meter supply\n",
    "TDS #\tTDS (Tenant Data System) number is the unique identifier for all NCYHA developments. It is recommended to use it in order to run analysis by development. The TDS is also the unique link between NYCHA data sets.\n",
    "EDP\tNYCHA Electronic Data Processing. Number used to identify individual NYCHA developments. EDP is used by NYCHA only to link data issued from a different system (the energy management system that was used by NYCHA before 2010). It is recommended to use the TDS # as a unique identifier of each development.\n",
    "RC Code\t\"NYCHA budget responsibility code.  Code representing a specific development.\n",
    "Funding Source\t\"The development’s funding source including Federal,Mixed Finance, or an indication that the facility is a non development facility which means a non residential facility.\"\n",
    "AMP number\tAbbreviation for Asset Management Project (AMP) numbers.  HUD Development asset tracking number.  An AMP number can consist of more than one development.\n",
    "Vendor Name\tUtility vendor name\n",
    "Revenue Month\tYear and month of bill: 2016-01\n",
    "Service Start Date\tBill start date\n",
    "Service End Date\tBill end date\n",
    "number days\tNumber of days on bill\n",
    "Meter Number\tMeter number\n",
    "Estimated\tMeter was not read for the time period. The consumption and cost are estimated. (Data is updated with actual reads once the meter is read)\n",
    "Current Charges\tTotal costs\n",
    "Rate Class\tThe rate applied to the account.  Details about each rate (dollar value) are available on the vendor web site.\n",
    "Bill Analyzed\tThe bill was analyzed for billing errors by NYCHA's Utility Management system during the billing period\n",
    "Consumption (KWH)\tTotal KWH consumption\n",
    "KWH Charges\tTotal KWH charges\n",
    "Consumption (KW)\tTotal KW consumption\n",
    "KW Charges\tTotal KW charges\n",
    "Other charges\tTotal other charges\n",
    "'''"
   ]
  },
  {
   "cell_type": "code",
   "execution_count": 3,
   "metadata": {},
   "outputs": [
    {
     "name": "stderr",
     "output_type": "stream",
     "text": [
      "/Applications/anaconda3/lib/python3.7/site-packages/IPython/core/interactiveshell.py:3058: DtypeWarning: Columns (17) have mixed types. Specify dtype option on import or set low_memory=False.\n",
      "  interactivity=interactivity, compiler=compiler, result=result)\n"
     ]
    },
    {
     "data": {
      "text/html": [
       "<div>\n",
       "<style scoped>\n",
       "    .dataframe tbody tr th:only-of-type {\n",
       "        vertical-align: middle;\n",
       "    }\n",
       "\n",
       "    .dataframe tbody tr th {\n",
       "        vertical-align: top;\n",
       "    }\n",
       "\n",
       "    .dataframe thead th {\n",
       "        text-align: right;\n",
       "    }\n",
       "</style>\n",
       "<table border=\"1\" class=\"dataframe\">\n",
       "  <thead>\n",
       "    <tr style=\"text-align: right;\">\n",
       "      <th></th>\n",
       "      <th>Development Name</th>\n",
       "      <th>Borough</th>\n",
       "      <th>Account Name</th>\n",
       "      <th>Location</th>\n",
       "      <th>Meter AMR</th>\n",
       "      <th>Meter Scope</th>\n",
       "      <th>TDS #</th>\n",
       "      <th>EDP</th>\n",
       "      <th>RC Code</th>\n",
       "      <th>Funding Source</th>\n",
       "      <th>...</th>\n",
       "      <th>Meter Number</th>\n",
       "      <th>Estimated</th>\n",
       "      <th>Current Charges</th>\n",
       "      <th>Rate Class</th>\n",
       "      <th>Bill Analyzed</th>\n",
       "      <th>Consumption (KWH)</th>\n",
       "      <th>KWH Charges</th>\n",
       "      <th>Consumption (KW)</th>\n",
       "      <th>KW Charges</th>\n",
       "      <th>Other charges</th>\n",
       "    </tr>\n",
       "  </thead>\n",
       "  <tbody>\n",
       "    <tr>\n",
       "      <td>0</td>\n",
       "      <td>ADAMS</td>\n",
       "      <td>BRONX</td>\n",
       "      <td>ADAMS</td>\n",
       "      <td>BLD 05</td>\n",
       "      <td>NONE</td>\n",
       "      <td>BLD 01 to 07</td>\n",
       "      <td>118.0</td>\n",
       "      <td>248</td>\n",
       "      <td>B011800</td>\n",
       "      <td>FEDERAL</td>\n",
       "      <td>...</td>\n",
       "      <td>7223256</td>\n",
       "      <td>N</td>\n",
       "      <td>15396.82</td>\n",
       "      <td>GOV/NYC/068</td>\n",
       "      <td>Yes</td>\n",
       "      <td>128800</td>\n",
       "      <td>7387.97</td>\n",
       "      <td>216.0</td>\n",
       "      <td>2808.0</td>\n",
       "      <td>5200.85</td>\n",
       "    </tr>\n",
       "    <tr>\n",
       "      <td>1</td>\n",
       "      <td>ADAMS</td>\n",
       "      <td>BRONX</td>\n",
       "      <td>ADAMS</td>\n",
       "      <td>BLD 05</td>\n",
       "      <td>NONE</td>\n",
       "      <td>BLD 01 to 07</td>\n",
       "      <td>118.0</td>\n",
       "      <td>248</td>\n",
       "      <td>B011800</td>\n",
       "      <td>FEDERAL</td>\n",
       "      <td>...</td>\n",
       "      <td>7223256</td>\n",
       "      <td>N</td>\n",
       "      <td>14556.34</td>\n",
       "      <td>GOV/NYC/068</td>\n",
       "      <td>Yes</td>\n",
       "      <td>115200</td>\n",
       "      <td>6607.87</td>\n",
       "      <td>224.0</td>\n",
       "      <td>2912.0</td>\n",
       "      <td>5036.47</td>\n",
       "    </tr>\n",
       "    <tr>\n",
       "      <td>2</td>\n",
       "      <td>ADAMS</td>\n",
       "      <td>BRONX</td>\n",
       "      <td>ADAMS</td>\n",
       "      <td>BLD 05</td>\n",
       "      <td>NONE</td>\n",
       "      <td>BLD 01 to 07</td>\n",
       "      <td>118.0</td>\n",
       "      <td>248</td>\n",
       "      <td>B011800</td>\n",
       "      <td>FEDERAL</td>\n",
       "      <td>...</td>\n",
       "      <td>7223256</td>\n",
       "      <td>N</td>\n",
       "      <td>13904.98</td>\n",
       "      <td>GOV/NYC/068</td>\n",
       "      <td>Yes</td>\n",
       "      <td>103200</td>\n",
       "      <td>5919.55</td>\n",
       "      <td>216.0</td>\n",
       "      <td>2808.0</td>\n",
       "      <td>5177.43</td>\n",
       "    </tr>\n",
       "    <tr>\n",
       "      <td>3</td>\n",
       "      <td>ADAMS</td>\n",
       "      <td>BRONX</td>\n",
       "      <td>ADAMS</td>\n",
       "      <td>BLD 05</td>\n",
       "      <td>NONE</td>\n",
       "      <td>BLD 01 to 07</td>\n",
       "      <td>118.0</td>\n",
       "      <td>248</td>\n",
       "      <td>B011800</td>\n",
       "      <td>FEDERAL</td>\n",
       "      <td>...</td>\n",
       "      <td>7223256</td>\n",
       "      <td>N</td>\n",
       "      <td>14764.04</td>\n",
       "      <td>GOV/NYC/068</td>\n",
       "      <td>Yes</td>\n",
       "      <td>105600</td>\n",
       "      <td>6057.22</td>\n",
       "      <td>208.0</td>\n",
       "      <td>2704.0</td>\n",
       "      <td>6002.82</td>\n",
       "    </tr>\n",
       "    <tr>\n",
       "      <td>4</td>\n",
       "      <td>ADAMS</td>\n",
       "      <td>BRONX</td>\n",
       "      <td>ADAMS</td>\n",
       "      <td>BLD 05</td>\n",
       "      <td>NONE</td>\n",
       "      <td>BLD 01 to 07</td>\n",
       "      <td>118.0</td>\n",
       "      <td>248</td>\n",
       "      <td>B011800</td>\n",
       "      <td>FEDERAL</td>\n",
       "      <td>...</td>\n",
       "      <td>7223256</td>\n",
       "      <td>N</td>\n",
       "      <td>13729.54</td>\n",
       "      <td>GOV/NYC/068</td>\n",
       "      <td>Yes</td>\n",
       "      <td>97600</td>\n",
       "      <td>5598.34</td>\n",
       "      <td>216.0</td>\n",
       "      <td>2808.0</td>\n",
       "      <td>5323.20</td>\n",
       "    </tr>\n",
       "  </tbody>\n",
       "</table>\n",
       "<p>5 rows × 27 columns</p>\n",
       "</div>"
      ],
      "text/plain": [
       "  Development Name Borough Account Name Location Meter AMR   Meter Scope  \\\n",
       "0            ADAMS   BRONX        ADAMS   BLD 05      NONE  BLD 01 to 07   \n",
       "1            ADAMS   BRONX        ADAMS   BLD 05      NONE  BLD 01 to 07   \n",
       "2            ADAMS   BRONX        ADAMS   BLD 05      NONE  BLD 01 to 07   \n",
       "3            ADAMS   BRONX        ADAMS   BLD 05      NONE  BLD 01 to 07   \n",
       "4            ADAMS   BRONX        ADAMS   BLD 05      NONE  BLD 01 to 07   \n",
       "\n",
       "   TDS #  EDP  RC Code Funding Source  ... Meter Number Estimated  \\\n",
       "0  118.0  248  B011800        FEDERAL  ...      7223256         N   \n",
       "1  118.0  248  B011800        FEDERAL  ...      7223256         N   \n",
       "2  118.0  248  B011800        FEDERAL  ...      7223256         N   \n",
       "3  118.0  248  B011800        FEDERAL  ...      7223256         N   \n",
       "4  118.0  248  B011800        FEDERAL  ...      7223256         N   \n",
       "\n",
       "   Current Charges   Rate Class Bill Analyzed Consumption (KWH)  KWH Charges  \\\n",
       "0         15396.82  GOV/NYC/068           Yes            128800      7387.97   \n",
       "1         14556.34  GOV/NYC/068           Yes            115200      6607.87   \n",
       "2         13904.98  GOV/NYC/068           Yes            103200      5919.55   \n",
       "3         14764.04  GOV/NYC/068           Yes            105600      6057.22   \n",
       "4         13729.54  GOV/NYC/068           Yes             97600      5598.34   \n",
       "\n",
       "  Consumption (KW) KW Charges  Other charges  \n",
       "0            216.0     2808.0        5200.85  \n",
       "1            224.0     2912.0        5036.47  \n",
       "2            216.0     2808.0        5177.43  \n",
       "3            208.0     2704.0        6002.82  \n",
       "4            216.0     2808.0        5323.20  \n",
       "\n",
       "[5 rows x 27 columns]"
      ]
     },
     "execution_count": 3,
     "metadata": {},
     "output_type": "execute_result"
    }
   ],
   "source": [
    "ds = pd.read_csv('Electric_Consumption_And_Cost__2010_-_March_2019_.csv')\n",
    "ds.head()"
   ]
  },
  {
   "cell_type": "code",
   "execution_count": 4,
   "metadata": {},
   "outputs": [
    {
     "data": {
      "text/plain": [
       "(287844, 27)"
      ]
     },
     "execution_count": 4,
     "metadata": {},
     "output_type": "execute_result"
    }
   ],
   "source": [
    "#checking shape of dataset\n",
    "ds.shape"
   ]
  },
  {
   "cell_type": "code",
   "execution_count": 5,
   "metadata": {},
   "outputs": [
    {
     "data": {
      "text/plain": [
       "7771788"
      ]
     },
     "execution_count": 5,
     "metadata": {},
     "output_type": "execute_result"
    }
   ],
   "source": [
    "# checking dataset size\n",
    "ds.size"
   ]
  },
  {
   "cell_type": "code",
   "execution_count": 6,
   "metadata": {},
   "outputs": [
    {
     "data": {
      "text/plain": [
       "Development Name       object\n",
       "Borough                object\n",
       "Account Name           object\n",
       "Location               object\n",
       "Meter AMR              object\n",
       "Meter Scope            object\n",
       "TDS #                 float64\n",
       "EDP                     int64\n",
       "RC Code                object\n",
       "Funding Source         object\n",
       "AMP #                  object\n",
       "Vendor Name            object\n",
       "UMIS BILL ID            int64\n",
       "Revenue Month          object\n",
       "Service Start Date     object\n",
       "Service End Date       object\n",
       "# days                  int64\n",
       "Meter Number           object\n",
       "Estimated              object\n",
       "Current Charges       float64\n",
       "Rate Class             object\n",
       "Bill Analyzed          object\n",
       "Consumption (KWH)       int64\n",
       "KWH Charges           float64\n",
       "Consumption (KW)      float64\n",
       "KW Charges            float64\n",
       "Other charges         float64\n",
       "dtype: object"
      ]
     },
     "execution_count": 6,
     "metadata": {},
     "output_type": "execute_result"
    }
   ],
   "source": [
    "#cheking types of data\n",
    "ds.dtypes"
   ]
  },
  {
   "cell_type": "code",
   "execution_count": 7,
   "metadata": {},
   "outputs": [
    {
     "data": {
      "text/plain": [
       "Meter Scope           272779\n",
       "Location                7611\n",
       "TDS #                   1257\n",
       "AMP #                   1225\n",
       "Estimated                337\n",
       "Meter AMR                 74\n",
       "Other charges              0\n",
       "UMIS BILL ID               0\n",
       "Borough                    0\n",
       "Account Name               0\n",
       "EDP                        0\n",
       "RC Code                    0\n",
       "Funding Source             0\n",
       "Vendor Name                0\n",
       "Revenue Month              0\n",
       "KW Charges                 0\n",
       "Service Start Date         0\n",
       "Service End Date           0\n",
       "# days                     0\n",
       "Meter Number               0\n",
       "Current Charges            0\n",
       "Rate Class                 0\n",
       "Bill Analyzed              0\n",
       "Consumption (KWH)          0\n",
       "KWH Charges                0\n",
       "Consumption (KW)           0\n",
       "Development Name           0\n",
       "dtype: int64"
      ]
     },
     "execution_count": 7,
     "metadata": {},
     "output_type": "execute_result"
    }
   ],
   "source": [
    "# checking for null values\n",
    "ds.isnull().sum().sort_values(ascending=False)"
   ]
  },
  {
   "cell_type": "code",
   "execution_count": 8,
   "metadata": {},
   "outputs": [],
   "source": [
    "# Changing some columns names in order to increase data readability\n",
    "ds = ds.rename(columns = {'Meter AMR': 'Meter Type',\n",
    "                          'Revenue Month': 'Bill Date',\n",
    "                          'Service Start Date': 'Bill Start Date',\n",
    "                          'Service End Date': 'Bill End Date',\n",
    "                          'Current Charges': 'Total Costs($)',\n",
    "                          'Consumption (KW)': 'Power Consumption(KW)',\n",
    "                          'Consumption (KWH)': 'Energy Consumption(KWh)'\n",
    "                         })"
   ]
  },
  {
   "cell_type": "code",
   "execution_count": 9,
   "metadata": {},
   "outputs": [
    {
     "data": {
      "text/html": [
       "<div>\n",
       "<style scoped>\n",
       "    .dataframe tbody tr th:only-of-type {\n",
       "        vertical-align: middle;\n",
       "    }\n",
       "\n",
       "    .dataframe tbody tr th {\n",
       "        vertical-align: top;\n",
       "    }\n",
       "\n",
       "    .dataframe thead th {\n",
       "        text-align: right;\n",
       "    }\n",
       "</style>\n",
       "<table border=\"1\" class=\"dataframe\">\n",
       "  <thead>\n",
       "    <tr style=\"text-align: right;\">\n",
       "      <th></th>\n",
       "      <th>percent_missing</th>\n",
       "    </tr>\n",
       "  </thead>\n",
       "  <tbody>\n",
       "    <tr>\n",
       "      <td>Meter Scope</td>\n",
       "      <td>94.766262</td>\n",
       "    </tr>\n",
       "    <tr>\n",
       "      <td>Location</td>\n",
       "      <td>2.644141</td>\n",
       "    </tr>\n",
       "    <tr>\n",
       "      <td>TDS #</td>\n",
       "      <td>0.436695</td>\n",
       "    </tr>\n",
       "    <tr>\n",
       "      <td>AMP #</td>\n",
       "      <td>0.425578</td>\n",
       "    </tr>\n",
       "    <tr>\n",
       "      <td>Estimated</td>\n",
       "      <td>0.117077</td>\n",
       "    </tr>\n",
       "  </tbody>\n",
       "</table>\n",
       "</div>"
      ],
      "text/plain": [
       "             percent_missing\n",
       "Meter Scope        94.766262\n",
       "Location            2.644141\n",
       "TDS #               0.436695\n",
       "AMP #               0.425578\n",
       "Estimated           0.117077"
      ]
     },
     "execution_count": 9,
     "metadata": {},
     "output_type": "execute_result"
    }
   ],
   "source": [
    "# calculating the percetage of missing values\n",
    "percent_missing = (ds.isnull().sum() / len(ds)) * 100\n",
    "ds_missing = pd.DataFrame({'percent_missing': percent_missing})\n",
    "ds_missing.sort_values('percent_missing', inplace=True, ascending = False)\n",
    "ds_missing.head()"
   ]
  },
  {
   "cell_type": "code",
   "execution_count": 10,
   "metadata": {},
   "outputs": [
    {
     "data": {
      "text/html": [
       "<div>\n",
       "<style scoped>\n",
       "    .dataframe tbody tr th:only-of-type {\n",
       "        vertical-align: middle;\n",
       "    }\n",
       "\n",
       "    .dataframe tbody tr th {\n",
       "        vertical-align: top;\n",
       "    }\n",
       "\n",
       "    .dataframe thead th {\n",
       "        text-align: right;\n",
       "    }\n",
       "</style>\n",
       "<table border=\"1\" class=\"dataframe\">\n",
       "  <thead>\n",
       "    <tr style=\"text-align: right;\">\n",
       "      <th></th>\n",
       "      <th>Bill Start Date</th>\n",
       "      <th>Bill End Date</th>\n",
       "      <th>Bill Date</th>\n",
       "    </tr>\n",
       "  </thead>\n",
       "  <tbody>\n",
       "    <tr>\n",
       "      <td>0</td>\n",
       "      <td>12/24/2009</td>\n",
       "      <td>01/26/2010</td>\n",
       "      <td>2010-01</td>\n",
       "    </tr>\n",
       "    <tr>\n",
       "      <td>1</td>\n",
       "      <td>01/26/2010</td>\n",
       "      <td>02/25/2010</td>\n",
       "      <td>2010-02</td>\n",
       "    </tr>\n",
       "    <tr>\n",
       "      <td>2</td>\n",
       "      <td>02/25/2010</td>\n",
       "      <td>03/26/2010</td>\n",
       "      <td>2010-03</td>\n",
       "    </tr>\n",
       "    <tr>\n",
       "      <td>3</td>\n",
       "      <td>03/26/2010</td>\n",
       "      <td>04/26/2010</td>\n",
       "      <td>2010-04</td>\n",
       "    </tr>\n",
       "    <tr>\n",
       "      <td>4</td>\n",
       "      <td>04/26/2010</td>\n",
       "      <td>05/24/2010</td>\n",
       "      <td>2010-05</td>\n",
       "    </tr>\n",
       "  </tbody>\n",
       "</table>\n",
       "</div>"
      ],
      "text/plain": [
       "  Bill Start Date Bill End Date Bill Date\n",
       "0      12/24/2009    01/26/2010   2010-01\n",
       "1      01/26/2010    02/25/2010   2010-02\n",
       "2      02/25/2010    03/26/2010   2010-03\n",
       "3      03/26/2010    04/26/2010   2010-04\n",
       "4      04/26/2010    05/24/2010   2010-05"
      ]
     },
     "execution_count": 10,
     "metadata": {},
     "output_type": "execute_result"
    }
   ],
   "source": [
    "# checking bill columns and if I can drop some not neede columns\n",
    "ds[['Bill Start Date', 'Bill End Date', 'Bill Date']].head()"
   ]
  },
  {
   "cell_type": "code",
   "execution_count": 11,
   "metadata": {},
   "outputs": [],
   "source": [
    "# as meter scope has a very high percetage of missing values, I am going to drop this column.\n",
    "# Also, for the analysis purpose I will not need some other columns so I'll drop them off\n",
    "ds = ds.drop(['Development Name', \n",
    "              'TDS #', \n",
    "              'EDP', \n",
    "              'KW Charges',\n",
    "              'KWH Charges',\n",
    "              'Other charges',\n",
    "              'Meter Scope', \n",
    "              'RC Code', \n",
    "              'AMP #',\n",
    "              'Location',\n",
    "              'Estimated',\n",
    "              'Vendor Name', \n",
    "              'UMIS BILL ID',\n",
    "              'Bill Start Date', \n",
    "              'Bill End Date'],axis = 1)"
   ]
  },
  {
   "cell_type": "code",
   "execution_count": 12,
   "metadata": {},
   "outputs": [
    {
     "data": {
      "text/html": [
       "<div>\n",
       "<style scoped>\n",
       "    .dataframe tbody tr th:only-of-type {\n",
       "        vertical-align: middle;\n",
       "    }\n",
       "\n",
       "    .dataframe tbody tr th {\n",
       "        vertical-align: top;\n",
       "    }\n",
       "\n",
       "    .dataframe thead th {\n",
       "        text-align: right;\n",
       "    }\n",
       "</style>\n",
       "<table border=\"1\" class=\"dataframe\">\n",
       "  <thead>\n",
       "    <tr style=\"text-align: right;\">\n",
       "      <th></th>\n",
       "      <th>Borough</th>\n",
       "      <th>Account Name</th>\n",
       "      <th>Meter Type</th>\n",
       "      <th>Funding Source</th>\n",
       "      <th>Bill Date</th>\n",
       "      <th># days</th>\n",
       "      <th>Meter Number</th>\n",
       "      <th>Total Costs($)</th>\n",
       "      <th>Rate Class</th>\n",
       "      <th>Bill Analyzed</th>\n",
       "      <th>Energy Consumption(KWh)</th>\n",
       "      <th>Power Consumption(KW)</th>\n",
       "    </tr>\n",
       "  </thead>\n",
       "  <tbody>\n",
       "    <tr>\n",
       "      <td>0</td>\n",
       "      <td>BRONX</td>\n",
       "      <td>ADAMS</td>\n",
       "      <td>NONE</td>\n",
       "      <td>FEDERAL</td>\n",
       "      <td>2010-01</td>\n",
       "      <td>33</td>\n",
       "      <td>7223256</td>\n",
       "      <td>15396.82</td>\n",
       "      <td>GOV/NYC/068</td>\n",
       "      <td>Yes</td>\n",
       "      <td>128800</td>\n",
       "      <td>216.0</td>\n",
       "    </tr>\n",
       "    <tr>\n",
       "      <td>1</td>\n",
       "      <td>BRONX</td>\n",
       "      <td>ADAMS</td>\n",
       "      <td>NONE</td>\n",
       "      <td>FEDERAL</td>\n",
       "      <td>2010-02</td>\n",
       "      <td>30</td>\n",
       "      <td>7223256</td>\n",
       "      <td>14556.34</td>\n",
       "      <td>GOV/NYC/068</td>\n",
       "      <td>Yes</td>\n",
       "      <td>115200</td>\n",
       "      <td>224.0</td>\n",
       "    </tr>\n",
       "    <tr>\n",
       "      <td>2</td>\n",
       "      <td>BRONX</td>\n",
       "      <td>ADAMS</td>\n",
       "      <td>NONE</td>\n",
       "      <td>FEDERAL</td>\n",
       "      <td>2010-03</td>\n",
       "      <td>29</td>\n",
       "      <td>7223256</td>\n",
       "      <td>13904.98</td>\n",
       "      <td>GOV/NYC/068</td>\n",
       "      <td>Yes</td>\n",
       "      <td>103200</td>\n",
       "      <td>216.0</td>\n",
       "    </tr>\n",
       "    <tr>\n",
       "      <td>3</td>\n",
       "      <td>BRONX</td>\n",
       "      <td>ADAMS</td>\n",
       "      <td>NONE</td>\n",
       "      <td>FEDERAL</td>\n",
       "      <td>2010-04</td>\n",
       "      <td>31</td>\n",
       "      <td>7223256</td>\n",
       "      <td>14764.04</td>\n",
       "      <td>GOV/NYC/068</td>\n",
       "      <td>Yes</td>\n",
       "      <td>105600</td>\n",
       "      <td>208.0</td>\n",
       "    </tr>\n",
       "    <tr>\n",
       "      <td>4</td>\n",
       "      <td>BRONX</td>\n",
       "      <td>ADAMS</td>\n",
       "      <td>NONE</td>\n",
       "      <td>FEDERAL</td>\n",
       "      <td>2010-05</td>\n",
       "      <td>28</td>\n",
       "      <td>7223256</td>\n",
       "      <td>13729.54</td>\n",
       "      <td>GOV/NYC/068</td>\n",
       "      <td>Yes</td>\n",
       "      <td>97600</td>\n",
       "      <td>216.0</td>\n",
       "    </tr>\n",
       "  </tbody>\n",
       "</table>\n",
       "</div>"
      ],
      "text/plain": [
       "  Borough Account Name Meter Type Funding Source Bill Date  # days  \\\n",
       "0   BRONX        ADAMS       NONE        FEDERAL   2010-01      33   \n",
       "1   BRONX        ADAMS       NONE        FEDERAL   2010-02      30   \n",
       "2   BRONX        ADAMS       NONE        FEDERAL   2010-03      29   \n",
       "3   BRONX        ADAMS       NONE        FEDERAL   2010-04      31   \n",
       "4   BRONX        ADAMS       NONE        FEDERAL   2010-05      28   \n",
       "\n",
       "  Meter Number  Total Costs($)   Rate Class Bill Analyzed  \\\n",
       "0      7223256        15396.82  GOV/NYC/068           Yes   \n",
       "1      7223256        14556.34  GOV/NYC/068           Yes   \n",
       "2      7223256        13904.98  GOV/NYC/068           Yes   \n",
       "3      7223256        14764.04  GOV/NYC/068           Yes   \n",
       "4      7223256        13729.54  GOV/NYC/068           Yes   \n",
       "\n",
       "   Energy Consumption(KWh)  Power Consumption(KW)  \n",
       "0                   128800                  216.0  \n",
       "1                   115200                  224.0  \n",
       "2                   103200                  216.0  \n",
       "3                   105600                  208.0  \n",
       "4                    97600                  216.0  "
      ]
     },
     "execution_count": 12,
     "metadata": {},
     "output_type": "execute_result"
    }
   ],
   "source": [
    "ds.head()"
   ]
  },
  {
   "cell_type": "code",
   "execution_count": 13,
   "metadata": {},
   "outputs": [
    {
     "name": "stdout",
     "output_type": "stream",
     "text": [
      "Index(['Borough', 'Account Name', 'Meter Type', 'Funding Source', 'Bill Date',\n",
      "       '# days', 'Meter Number', 'Total Costs($)', 'Rate Class',\n",
      "       'Bill Analyzed', 'Energy Consumption(KWh)', 'Power Consumption(KW)'],\n",
      "      dtype='object')\n"
     ]
    },
    {
     "data": {
      "text/plain": [
       "12"
      ]
     },
     "execution_count": 13,
     "metadata": {},
     "output_type": "execute_result"
    }
   ],
   "source": [
    "# checking names and number of columns\n",
    "print(ds.columns)\n",
    "len(ds.columns)"
   ]
  },
  {
   "cell_type": "code",
   "execution_count": 14,
   "metadata": {},
   "outputs": [
    {
     "data": {
      "text/plain": [
       "12"
      ]
     },
     "execution_count": 14,
     "metadata": {},
     "output_type": "execute_result"
    }
   ],
   "source": [
    "# checking number of unique columns\n",
    "len(ds.columns.unique())"
   ]
  },
  {
   "cell_type": "code",
   "execution_count": 15,
   "metadata": {},
   "outputs": [],
   "source": [
    "#exporting clean dataset to a new csv file\n",
    "ds.to_csv('NYC_clean.csv')"
   ]
  },
  {
   "cell_type": "code",
   "execution_count": null,
   "metadata": {},
   "outputs": [],
   "source": []
  }
 ],
 "metadata": {
  "kernelspec": {
   "display_name": "Python 3",
   "language": "python",
   "name": "python3"
  },
  "language_info": {
   "codemirror_mode": {
    "name": "ipython",
    "version": 3
   },
   "file_extension": ".py",
   "mimetype": "text/x-python",
   "name": "python",
   "nbconvert_exporter": "python",
   "pygments_lexer": "ipython3",
   "version": "3.7.4"
  }
 },
 "nbformat": 4,
 "nbformat_minor": 2
}
