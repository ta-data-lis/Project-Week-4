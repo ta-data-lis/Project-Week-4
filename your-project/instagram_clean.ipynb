{
 "metadata": {
  "language_info": {
   "codemirror_mode": {
    "name": "ipython",
    "version": 3
   },
   "file_extension": ".py",
   "mimetype": "text/x-python",
   "name": "python",
   "nbconvert_exporter": "python",
   "pygments_lexer": "ipython3",
   "version": "3.8.3-final"
  },
  "orig_nbformat": 2,
  "kernelspec": {
   "name": "python3",
   "display_name": "Python 3"
  }
 },
 "nbformat": 4,
 "nbformat_minor": 2,
 "cells": [
  {
   "cell_type": "code",
   "execution_count": 11,
   "metadata": {},
   "outputs": [],
   "source": [
    "import pandas as pd\n",
    "import numpy as np"
   ]
  },
  {
   "cell_type": "code",
   "execution_count": 12,
   "metadata": {},
   "outputs": [
    {
     "output_type": "execute_result",
     "data": {
      "text/plain": [
       "              User  #Followers  #Posts                      Photo Location  \\\n",
       "0  abcdosviajantes       10400     414             Praia De Carro Quebrado   \n",
       "1  abcdosviajantes       10400     414                                None   \n",
       "2  abcdosviajantes       10400     414   Pedra Do Arpoador, Rio De Janeiro   \n",
       "3  abcdosviajantes       10400     414  Maceió-Alagoas/ Nordeste Do Brasil   \n",
       "4  abcdosviajantes       10400     414                              Brasil   \n",
       "\n",
       "   Likes  Comments  Place? People? Hashtags  \n",
       "0     64        27   Beach      No     None  \n",
       "1     45         8    Food      No     None  \n",
       "2     65        34   Beach      No     None  \n",
       "3     68        17   Beach      No     None  \n",
       "4     90        33  Nature      No     None  "
      ],
      "text/html": "<div>\n<style scoped>\n    .dataframe tbody tr th:only-of-type {\n        vertical-align: middle;\n    }\n\n    .dataframe tbody tr th {\n        vertical-align: top;\n    }\n\n    .dataframe thead th {\n        text-align: right;\n    }\n</style>\n<table border=\"1\" class=\"dataframe\">\n  <thead>\n    <tr style=\"text-align: right;\">\n      <th></th>\n      <th>User</th>\n      <th>#Followers</th>\n      <th>#Posts</th>\n      <th>Photo Location</th>\n      <th>Likes</th>\n      <th>Comments</th>\n      <th>Place?</th>\n      <th>People?</th>\n      <th>Hashtags</th>\n    </tr>\n  </thead>\n  <tbody>\n    <tr>\n      <th>0</th>\n      <td>abcdosviajantes</td>\n      <td>10400</td>\n      <td>414</td>\n      <td>Praia De Carro Quebrado</td>\n      <td>64</td>\n      <td>27</td>\n      <td>Beach</td>\n      <td>No</td>\n      <td>None</td>\n    </tr>\n    <tr>\n      <th>1</th>\n      <td>abcdosviajantes</td>\n      <td>10400</td>\n      <td>414</td>\n      <td>None</td>\n      <td>45</td>\n      <td>8</td>\n      <td>Food</td>\n      <td>No</td>\n      <td>None</td>\n    </tr>\n    <tr>\n      <th>2</th>\n      <td>abcdosviajantes</td>\n      <td>10400</td>\n      <td>414</td>\n      <td>Pedra Do Arpoador, Rio De Janeiro</td>\n      <td>65</td>\n      <td>34</td>\n      <td>Beach</td>\n      <td>No</td>\n      <td>None</td>\n    </tr>\n    <tr>\n      <th>3</th>\n      <td>abcdosviajantes</td>\n      <td>10400</td>\n      <td>414</td>\n      <td>Maceió-Alagoas/ Nordeste Do Brasil</td>\n      <td>68</td>\n      <td>17</td>\n      <td>Beach</td>\n      <td>No</td>\n      <td>None</td>\n    </tr>\n    <tr>\n      <th>4</th>\n      <td>abcdosviajantes</td>\n      <td>10400</td>\n      <td>414</td>\n      <td>Brasil</td>\n      <td>90</td>\n      <td>33</td>\n      <td>Nature</td>\n      <td>No</td>\n      <td>None</td>\n    </tr>\n  </tbody>\n</table>\n</div>"
     },
     "metadata": {},
     "execution_count": 12
    }
   ],
   "source": [
    "instagram = pd.read_excel('instagram_data_collected.xlsx')\n",
    "instagram.astype({'Comments': 'int64','Likes':'int64'})\n",
    "instagram.head()"
   ]
  },
  {
   "cell_type": "code",
   "execution_count": 13,
   "metadata": {},
   "outputs": [],
   "source": [
    "instagram['People'] = np.where(instagram['People?']=='Yes',True,False)"
   ]
  },
  {
   "cell_type": "code",
   "execution_count": 14,
   "metadata": {},
   "outputs": [],
   "source": [
    "instagram['#'] = np.where(instagram['Hashtags']=='None',False,True)"
   ]
  },
  {
   "cell_type": "code",
   "execution_count": 15,
   "metadata": {},
   "outputs": [],
   "source": [
    "instagram.drop(['People?','Hashtags'],axis=1,inplace=True)"
   ]
  },
  {
   "cell_type": "code",
   "execution_count": 19,
   "metadata": {},
   "outputs": [],
   "source": [
    "instagram.rename(columns={\"Place?\": \"Places\"},inplace=True)"
   ]
  },
  {
   "cell_type": "code",
   "execution_count": 20,
   "metadata": {},
   "outputs": [
    {
     "output_type": "execute_result",
     "data": {
      "text/plain": [
       "               User  #Followers  #Posts  \\\n",
       "0   abcdosviajantes       10400     414   \n",
       "1   abcdosviajantes       10400     414   \n",
       "2   abcdosviajantes       10400     414   \n",
       "3   abcdosviajantes       10400     414   \n",
       "4   abcdosviajantes       10400     414   \n",
       "..              ...         ...     ...   \n",
       "95      comigoporai       18600     363   \n",
       "96      comigoporai       18600     363   \n",
       "97      comigoporai       18600     363   \n",
       "98      comigoporai       18600     363   \n",
       "99      comigoporai       18600     363   \n",
       "\n",
       "                               Photo Location  Likes  Comments   Places  \\\n",
       "0                     Praia De Carro Quebrado     64        27    Beach   \n",
       "1                                        None     45         8     Food   \n",
       "2           Pedra Do Arpoador, Rio De Janeiro     65        34    Beach   \n",
       "3          Maceió-Alagoas/ Nordeste Do Brasil     68        17    Beach   \n",
       "4                                      Brasil     90        33   Nature   \n",
       "..                                        ...    ...       ...      ...   \n",
       "95                     London, United Kingdom    427        72     Food   \n",
       "96                     London, United Kingdom    546        68   Street   \n",
       "97                           Picadilly Circus    515        87   Street   \n",
       "98  Pergola and Hill Gardens, Hampstead Heath    590       100   Nature   \n",
       "99                     London, United Kingdom    383        45  Culture   \n",
       "\n",
       "    People      #  \n",
       "0    False  False  \n",
       "1    False  False  \n",
       "2    False  False  \n",
       "3    False  False  \n",
       "4    False  False  \n",
       "..     ...    ...  \n",
       "95    True  False  \n",
       "96    True  False  \n",
       "97    True  False  \n",
       "98    True  False  \n",
       "99    True  False  \n",
       "\n",
       "[100 rows x 9 columns]"
      ],
      "text/html": "<div>\n<style scoped>\n    .dataframe tbody tr th:only-of-type {\n        vertical-align: middle;\n    }\n\n    .dataframe tbody tr th {\n        vertical-align: top;\n    }\n\n    .dataframe thead th {\n        text-align: right;\n    }\n</style>\n<table border=\"1\" class=\"dataframe\">\n  <thead>\n    <tr style=\"text-align: right;\">\n      <th></th>\n      <th>User</th>\n      <th>#Followers</th>\n      <th>#Posts</th>\n      <th>Photo Location</th>\n      <th>Likes</th>\n      <th>Comments</th>\n      <th>Places</th>\n      <th>People</th>\n      <th>#</th>\n    </tr>\n  </thead>\n  <tbody>\n    <tr>\n      <th>0</th>\n      <td>abcdosviajantes</td>\n      <td>10400</td>\n      <td>414</td>\n      <td>Praia De Carro Quebrado</td>\n      <td>64</td>\n      <td>27</td>\n      <td>Beach</td>\n      <td>False</td>\n      <td>False</td>\n    </tr>\n    <tr>\n      <th>1</th>\n      <td>abcdosviajantes</td>\n      <td>10400</td>\n      <td>414</td>\n      <td>None</td>\n      <td>45</td>\n      <td>8</td>\n      <td>Food</td>\n      <td>False</td>\n      <td>False</td>\n    </tr>\n    <tr>\n      <th>2</th>\n      <td>abcdosviajantes</td>\n      <td>10400</td>\n      <td>414</td>\n      <td>Pedra Do Arpoador, Rio De Janeiro</td>\n      <td>65</td>\n      <td>34</td>\n      <td>Beach</td>\n      <td>False</td>\n      <td>False</td>\n    </tr>\n    <tr>\n      <th>3</th>\n      <td>abcdosviajantes</td>\n      <td>10400</td>\n      <td>414</td>\n      <td>Maceió-Alagoas/ Nordeste Do Brasil</td>\n      <td>68</td>\n      <td>17</td>\n      <td>Beach</td>\n      <td>False</td>\n      <td>False</td>\n    </tr>\n    <tr>\n      <th>4</th>\n      <td>abcdosviajantes</td>\n      <td>10400</td>\n      <td>414</td>\n      <td>Brasil</td>\n      <td>90</td>\n      <td>33</td>\n      <td>Nature</td>\n      <td>False</td>\n      <td>False</td>\n    </tr>\n    <tr>\n      <th>...</th>\n      <td>...</td>\n      <td>...</td>\n      <td>...</td>\n      <td>...</td>\n      <td>...</td>\n      <td>...</td>\n      <td>...</td>\n      <td>...</td>\n      <td>...</td>\n    </tr>\n    <tr>\n      <th>95</th>\n      <td>comigoporai</td>\n      <td>18600</td>\n      <td>363</td>\n      <td>London, United Kingdom</td>\n      <td>427</td>\n      <td>72</td>\n      <td>Food</td>\n      <td>True</td>\n      <td>False</td>\n    </tr>\n    <tr>\n      <th>96</th>\n      <td>comigoporai</td>\n      <td>18600</td>\n      <td>363</td>\n      <td>London, United Kingdom</td>\n      <td>546</td>\n      <td>68</td>\n      <td>Street</td>\n      <td>True</td>\n      <td>False</td>\n    </tr>\n    <tr>\n      <th>97</th>\n      <td>comigoporai</td>\n      <td>18600</td>\n      <td>363</td>\n      <td>Picadilly Circus</td>\n      <td>515</td>\n      <td>87</td>\n      <td>Street</td>\n      <td>True</td>\n      <td>False</td>\n    </tr>\n    <tr>\n      <th>98</th>\n      <td>comigoporai</td>\n      <td>18600</td>\n      <td>363</td>\n      <td>Pergola and Hill Gardens, Hampstead Heath</td>\n      <td>590</td>\n      <td>100</td>\n      <td>Nature</td>\n      <td>True</td>\n      <td>False</td>\n    </tr>\n    <tr>\n      <th>99</th>\n      <td>comigoporai</td>\n      <td>18600</td>\n      <td>363</td>\n      <td>London, United Kingdom</td>\n      <td>383</td>\n      <td>45</td>\n      <td>Culture</td>\n      <td>True</td>\n      <td>False</td>\n    </tr>\n  </tbody>\n</table>\n<p>100 rows × 9 columns</p>\n</div>"
     },
     "metadata": {},
     "execution_count": 20
    }
   ],
   "source": [
    "instagram"
   ]
  },
  {
   "cell_type": "code",
   "execution_count": 21,
   "metadata": {},
   "outputs": [],
   "source": [
    "instagram.to_excel('instagram_clean.xlsx')"
   ]
  },
  {
   "cell_type": "code",
   "execution_count": null,
   "metadata": {},
   "outputs": [],
   "source": []
  }
 ]
}