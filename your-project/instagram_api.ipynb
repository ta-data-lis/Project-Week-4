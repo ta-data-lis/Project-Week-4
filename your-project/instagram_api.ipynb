{
 "metadata": {
  "language_info": {
   "codemirror_mode": {
    "name": "ipython",
    "version": 3
   },
   "file_extension": ".py",
   "mimetype": "text/x-python",
   "name": "python",
   "nbconvert_exporter": "python",
   "pygments_lexer": "ipython3",
   "version": "3.8.5-final"
  },
  "orig_nbformat": 2,
  "kernelspec": {
   "name": "python38564bit4f57281242da47b0a84bc03a5fa692d9",
   "display_name": "Python 3.8.5 64-bit"
  }
 },
 "nbformat": 4,
 "nbformat_minor": 2,
 "cells": [
  {
   "source": [
    "<img src=\"instagram_logo.jpg\" alt=\"Instagram Logo\" width=\"300\"/>"
   ],
   "cell_type": "markdown",
   "metadata": {}
  },
  {
   "cell_type": "code",
   "execution_count": 1,
   "metadata": {},
   "outputs": [],
   "source": [
    "from bs4 import BeautifulSoup\n",
    "import requests\n",
    "import pandas as pd\n",
    "import numpy as np\n",
    "import datetime\n",
    "import re"
   ]
  },
  {
   "source": [
    "# User Posts"
   ],
   "cell_type": "markdown",
   "metadata": {}
  },
  {
   "source": [
    "inside the `body` we are going to explore `items`\n",
    "\n",
    "inside `items`:\n",
    "\n",
    "* in `caption` we have all the text and the # - regex to get all the # only\n",
    "* in `comment_count` we get the count of the comments to the post\n",
    "* in `like_count` we get the count of the likes to the post\n",
    "* in `location` extract place, city, facebookid"
   ],
   "cell_type": "markdown",
   "metadata": {}
  },
  {
   "cell_type": "code",
   "execution_count": 47,
   "metadata": {},
   "outputs": [],
   "source": [
    "# from the list of profiles I colleted manually data\n",
    "username = ['abcdosviajantes',\n",
    " 'carimbacasado',\n",
    " 'liviajando',\n",
    " 'euvouporai',\n",
    " 'dicadeturista',\n",
    " 'viajareumprazer',\n",
    " 'ateondeeupuderir',\n",
    " 'vantravelpics',\n",
    " 'euviajosozinha',\n",
    " 'comigoporai',\n",
    "  'travelbabbo',\n",
    "  'Calsnape',\n",
    "  'ournextflight',\n",
    "  'takemyhearteverywhere',\n",
    "  'danielkordan',\n",
    "  'nobackhome',\n",
    "  'chrisburkard',\n",
    "  'melissa','funforlouis',\n",
    "  'doyoutravel',\n",
    "   'izkiz',\n",
    "   'tuulavintage',\n",
    "   'muradosmann',\n",
    "   'stalman',\n",
    "   'alenpalander',\n",
    "   'benjaminortega',\n",
    "   'jannid',\n",
    "   'jonolsson1']\n",
    "   #'lifeof_riley']\n",
    "#len(username)"
   ]
  },
  {
   "cell_type": "code",
   "execution_count": 38,
   "metadata": {},
   "outputs": [],
   "source": [
    "import time\n",
    "\n",
    "url = \"https://instagram47.p.rapidapi.com/user_posts/\"\n",
    "\n",
    "df = []\n",
    "\n",
    "for user in username:\n",
    "    querystring = {\"username\":str(user)}\n",
    "    headers = {\n",
    "        'x-rapidapi-key': \"9054abd98dmshd8ac88b14b98c4fp18a496jsnd46bb5f9cd32\",\n",
    "        'x-rapidapi-host': \"instagram47.p.rapidapi.com\"\n",
    "        }\n",
    "    response = requests.request(\"GET\", url, headers=headers, params=querystring)\n",
    "    time.sleep(5)\n",
    "    raw_data = pd.json_normalize(response.json())\n",
    "    df.append(raw_data)"
   ]
  },
  {
   "cell_type": "code",
   "execution_count": 39,
   "metadata": {},
   "outputs": [],
   "source": [
    "data = pd.concat(df, axis=0).reset_index()\n",
    "#data"
   ]
  },
  {
   "cell_type": "code",
   "execution_count": 40,
   "metadata": {},
   "outputs": [
    {
     "output_type": "execute_result",
     "data": {
      "text/plain": [
       "                                           body.items\n",
       "0   [{'taken_at': 1605716723, 'pk': 24452515666920...\n",
       "1   [{'taken_at': 1605461792, 'pk': 24431130501389...\n",
       "2   [{'taken_at': 1605632841, 'pk': 24445477598621...\n",
       "3   [{'taken_at': 1605128932, 'pk': 24403208203280...\n",
       "4   [{'taken_at': 1600042043, 'pk': 23976489007028...\n",
       "5   [{'taken_at': 1605481235, 'pk': 24432761512866...\n",
       "6   [{'taken_at': 1605646221, 'pk': 24446601478332...\n",
       "7   [{'taken_at': 1604007353, 'pk': 24309123328490...\n",
       "8   [{'taken_at': 1604333294, 'pk': 24336465206075...\n",
       "9   [{'taken_at': 1605203166, 'pk': 24409435378134...\n",
       "10  [{'taken_at': 1605723813, 'pk': 24453110370155...\n",
       "11  [{'taken_at': 1605672084, 'pk': 24448771062666...\n",
       "12  [{'taken_at': 1605716626, 'pk': 24452507526515...\n",
       "13  [{'taken_at': 1605558690, 'pk': 24439258850958...\n",
       "14  [{'taken_at': 1605704958, 'pk': 24451528735590...\n",
       "15  [{'taken_at': 1605709763, 'pk': 24451931810225...\n",
       "16  [{'taken_at': 1605484251, 'pk': 24433014521498...\n",
       "17  [{'taken_at': 1601908135, 'pk': 24133028096225...\n",
       "18  [{'taken_at': 1604349066, 'pk': 24332921751075...\n",
       "19  [{'taken_at': 1605685219, 'pk': 24449872928811...\n",
       "20  [{'taken_at': 1605634185, 'pk': 24445591860284...\n",
       "21  [{'taken_at': 1578182301, 'pk': 22142760945307...\n",
       "22  [{'taken_at': 1604156111, 'pk': 24321594110962...\n",
       "23  [{'taken_at': 1605557032, 'pk': 24439119791252...\n",
       "24  [{'taken_at': 1605621994, 'pk': 24444569199113...\n",
       "25  [{'taken_at': 1605729455, 'pk': 24453578717859...\n",
       "26  [{'taken_at': 1605644399, 'pk': 24446448691653...\n",
       "27  [{'taken_at': 1604250925, 'pk': 24329532206672..."
      ],
      "text/html": "<div>\n<style scoped>\n    .dataframe tbody tr th:only-of-type {\n        vertical-align: middle;\n    }\n\n    .dataframe tbody tr th {\n        vertical-align: top;\n    }\n\n    .dataframe thead th {\n        text-align: right;\n    }\n</style>\n<table border=\"1\" class=\"dataframe\">\n  <thead>\n    <tr style=\"text-align: right;\">\n      <th></th>\n      <th>body.items</th>\n    </tr>\n  </thead>\n  <tbody>\n    <tr>\n      <th>0</th>\n      <td>[{'taken_at': 1605716723, 'pk': 24452515666920...</td>\n    </tr>\n    <tr>\n      <th>1</th>\n      <td>[{'taken_at': 1605461792, 'pk': 24431130501389...</td>\n    </tr>\n    <tr>\n      <th>2</th>\n      <td>[{'taken_at': 1605632841, 'pk': 24445477598621...</td>\n    </tr>\n    <tr>\n      <th>3</th>\n      <td>[{'taken_at': 1605128932, 'pk': 24403208203280...</td>\n    </tr>\n    <tr>\n      <th>4</th>\n      <td>[{'taken_at': 1600042043, 'pk': 23976489007028...</td>\n    </tr>\n    <tr>\n      <th>5</th>\n      <td>[{'taken_at': 1605481235, 'pk': 24432761512866...</td>\n    </tr>\n    <tr>\n      <th>6</th>\n      <td>[{'taken_at': 1605646221, 'pk': 24446601478332...</td>\n    </tr>\n    <tr>\n      <th>7</th>\n      <td>[{'taken_at': 1604007353, 'pk': 24309123328490...</td>\n    </tr>\n    <tr>\n      <th>8</th>\n      <td>[{'taken_at': 1604333294, 'pk': 24336465206075...</td>\n    </tr>\n    <tr>\n      <th>9</th>\n      <td>[{'taken_at': 1605203166, 'pk': 24409435378134...</td>\n    </tr>\n    <tr>\n      <th>10</th>\n      <td>[{'taken_at': 1605723813, 'pk': 24453110370155...</td>\n    </tr>\n    <tr>\n      <th>11</th>\n      <td>[{'taken_at': 1605672084, 'pk': 24448771062666...</td>\n    </tr>\n    <tr>\n      <th>12</th>\n      <td>[{'taken_at': 1605716626, 'pk': 24452507526515...</td>\n    </tr>\n    <tr>\n      <th>13</th>\n      <td>[{'taken_at': 1605558690, 'pk': 24439258850958...</td>\n    </tr>\n    <tr>\n      <th>14</th>\n      <td>[{'taken_at': 1605704958, 'pk': 24451528735590...</td>\n    </tr>\n    <tr>\n      <th>15</th>\n      <td>[{'taken_at': 1605709763, 'pk': 24451931810225...</td>\n    </tr>\n    <tr>\n      <th>16</th>\n      <td>[{'taken_at': 1605484251, 'pk': 24433014521498...</td>\n    </tr>\n    <tr>\n      <th>17</th>\n      <td>[{'taken_at': 1601908135, 'pk': 24133028096225...</td>\n    </tr>\n    <tr>\n      <th>18</th>\n      <td>[{'taken_at': 1604349066, 'pk': 24332921751075...</td>\n    </tr>\n    <tr>\n      <th>19</th>\n      <td>[{'taken_at': 1605685219, 'pk': 24449872928811...</td>\n    </tr>\n    <tr>\n      <th>20</th>\n      <td>[{'taken_at': 1605634185, 'pk': 24445591860284...</td>\n    </tr>\n    <tr>\n      <th>21</th>\n      <td>[{'taken_at': 1578182301, 'pk': 22142760945307...</td>\n    </tr>\n    <tr>\n      <th>22</th>\n      <td>[{'taken_at': 1604156111, 'pk': 24321594110962...</td>\n    </tr>\n    <tr>\n      <th>23</th>\n      <td>[{'taken_at': 1605557032, 'pk': 24439119791252...</td>\n    </tr>\n    <tr>\n      <th>24</th>\n      <td>[{'taken_at': 1605621994, 'pk': 24444569199113...</td>\n    </tr>\n    <tr>\n      <th>25</th>\n      <td>[{'taken_at': 1605729455, 'pk': 24453578717859...</td>\n    </tr>\n    <tr>\n      <th>26</th>\n      <td>[{'taken_at': 1605644399, 'pk': 24446448691653...</td>\n    </tr>\n    <tr>\n      <th>27</th>\n      <td>[{'taken_at': 1604250925, 'pk': 24329532206672...</td>\n    </tr>\n  </tbody>\n</table>\n</div>"
     },
     "metadata": {},
     "execution_count": 40
    }
   ],
   "source": [
    "items = pd.DataFrame.from_dict(data['body.items'])\n",
    "\n",
    "#items.dropna().reset_index()\n",
    "items"
   ]
  },
  {
   "cell_type": "code",
   "execution_count": 41,
   "metadata": {},
   "outputs": [
    {
     "output_type": "stream",
     "name": "stdout",
     "text": [
      "Total of photos from all profiles:  408\n"
     ]
    }
   ],
   "source": [
    "df_data_list = []\n",
    "r = 0\n",
    "for row in range(len(df)):\n",
    "    size = len(data['body.items'][row])\n",
    "    r += size\n",
    "    \n",
    "    lst = items.loc[row].tolist()\n",
    "    df_data = pd.DataFrame.from_dict(items.loc[row].tolist()).T\n",
    "    df_data_list.append(df_data)\n",
    "    \n",
    "print('Total of photos from all profiles: ',r)\n",
    "photos = pd.concat(df_data_list, axis=0).reset_index()\n",
    "#photos"
   ]
  },
  {
   "cell_type": "code",
   "execution_count": 42,
   "metadata": {},
   "outputs": [
    {
     "output_type": "execute_result",
     "data": {
      "text/plain": [
       "Index(['taken_at', 'pk', 'id', 'device_timestamp', 'media_type', 'code',\n",
       "       'client_cache_key', 'filter_type', 'location', 'lat', 'lng',\n",
       "       'should_request_ads', 'user', 'can_viewer_reshare', 'caption_is_edited',\n",
       "       'comment_likes_enabled', 'comment_threading_enabled',\n",
       "       'has_more_comments', 'max_num_visible_preview_comments',\n",
       "       'preview_comments', 'comments', 'can_view_more_preview_comments',\n",
       "       'comment_count', 'inline_composer_display_condition', 'image_versions2',\n",
       "       'original_width', 'original_height', 'like_count', 'has_liked',\n",
       "       'top_likers', 'facepile_top_likers', 'photo_of_you',\n",
       "       'can_see_insights_as_brand', 'caption', 'organic_tracking_token',\n",
       "       'sharing_friction_info', 'is_in_profile_grid',\n",
       "       'profile_grid_control_enabled', 'is_shop_the_look_eligible',\n",
       "       'deleted_reason', 'integrity_review_decision', 'video_versions',\n",
       "       'has_audio', 'video_duration', 'view_count', 'play_count',\n",
       "       'product_type', 'clips_metadata', 'usertags', 'next_max_id',\n",
       "       'is_dash_eligible', 'video_dash_manifest', 'video_codec',\n",
       "       'number_of_qualities', 'title', 'nearly_complete_copyright_match',\n",
       "       'media_cropping_info', 'thumbnails', 'is_post_live', 'igtv_series_info',\n",
       "       'sponsor_tags'],\n",
       "      dtype='object')"
      ]
     },
     "metadata": {},
     "execution_count": 42
    }
   ],
   "source": [
    "final_data = pd.DataFrame(dict(photos[0])).T\n",
    "final_data.columns"
   ]
  },
  {
   "cell_type": "code",
   "execution_count": 43,
   "metadata": {},
   "outputs": [],
   "source": [
    "user = pd.DataFrame(dict(final_data['user'])).T\n",
    "label = user[['pk','username']]\n",
    "instagram_api = final_data[['like_count','comment_count']]\n",
    "user_info = pd.concat([label, instagram_api], axis=1)\n",
    "#user_info"
   ]
  },
  {
   "cell_type": "code",
   "execution_count": 44,
   "metadata": {},
   "outputs": [],
   "source": [
    "location = pd.DataFrame(dict(final_data['location'])).T\n",
    "local = location[['short_name','facebook_places_id','city','lng','lat']]\n",
    "\n",
    "local_info = pd.concat([user_info, local], axis=1)\n",
    "#local_info"
   ]
  },
  {
   "cell_type": "code",
   "execution_count": 49,
   "metadata": {},
   "outputs": [
    {
     "output_type": "execute_result",
     "data": {
      "text/plain": [
       "              pk         username like_count comment_count  \\\n",
       "0    11704287485  abcdosviajantes         39             6   \n",
       "1    11704287485  abcdosviajantes         66            27   \n",
       "2    11704287485  abcdosviajantes         45             8   \n",
       "3    11704287485  abcdosviajantes         65            34   \n",
       "4    11704287485  abcdosviajantes         68            17   \n",
       "..           ...              ...        ...           ...   \n",
       "403    191681166       jonolsson1     208337           484   \n",
       "404    191681166       jonolsson1     172751           304   \n",
       "405    191681166       jonolsson1     173081           407   \n",
       "406    191681166       jonolsson1     237006           471   \n",
       "407    191681166       jonolsson1     191799           422   \n",
       "\n",
       "                             short_name facebook_places_id            city  \\\n",
       "0                     Escadaria Selarón    129293763779643                   \n",
       "1               Praia De Carro Quebrado    334376796650152  Maceió, Brazil   \n",
       "2                                   NaN                NaN             NaN   \n",
       "3                     Pedra Do Arpoador    141182515999238                   \n",
       "4    Maceió-Alagoas/ Nordeste Do Brasil    100437841374667                   \n",
       "..                                  ...                ...             ...   \n",
       "403                                 NaN                NaN             NaN   \n",
       "404                            Marbella    108331215864513                   \n",
       "405                            Marbella    108331215864513                   \n",
       "406                            Marbella    108331215864513                   \n",
       "407                            Marbella    108331215864513                   \n",
       "\n",
       "         lng      lat                                               text  \n",
       "0   -43.1795 -22.9154  Aqui vai um pouquinho da história da escadari...  \n",
       "1   -35.7074 -9.66124  Se você está curioso sobre a origem do nome ...  \n",
       "2        NaN      NaN  A gastronomia no início de seu surgimento, er...  \n",
       "3   -43.1008 -22.8586  Você gosta de pôr do sol??? ☀️\\n\\nEntão aqu...  \n",
       "4   -35.7243 -9.62537  📍Dunas de Marapé, Alagoas.\\n\\nOntem perguntam...  \n",
       "..       ...      ...                                                ...  \n",
       "403      NaN      NaN  Cant think of a much better way to spend my 38...  \n",
       "404  -4.8855   36.509  Lord Hans The G is SOLD! 😳💔😭 \\n\\nAs much as I ...  \n",
       "405  -4.8855   36.509  100% Ultimate Driveway Goals! 💯❤️\\n10.000.000€...  \n",
       "406  -4.8855   36.509  Yes dad! 👶🏼🙌🏼👶🏼 The driveway is now Hypercar t...  \n",
       "407  -4.8855   36.509  Who thinks @jannid likes to see me and Leon pl...  \n",
       "\n",
       "[408 rows x 10 columns]"
      ],
      "text/html": "<div>\n<style scoped>\n    .dataframe tbody tr th:only-of-type {\n        vertical-align: middle;\n    }\n\n    .dataframe tbody tr th {\n        vertical-align: top;\n    }\n\n    .dataframe thead th {\n        text-align: right;\n    }\n</style>\n<table border=\"1\" class=\"dataframe\">\n  <thead>\n    <tr style=\"text-align: right;\">\n      <th></th>\n      <th>pk</th>\n      <th>username</th>\n      <th>like_count</th>\n      <th>comment_count</th>\n      <th>short_name</th>\n      <th>facebook_places_id</th>\n      <th>city</th>\n      <th>lng</th>\n      <th>lat</th>\n      <th>text</th>\n    </tr>\n  </thead>\n  <tbody>\n    <tr>\n      <th>0</th>\n      <td>11704287485</td>\n      <td>abcdosviajantes</td>\n      <td>39</td>\n      <td>6</td>\n      <td>Escadaria Selarón</td>\n      <td>129293763779643</td>\n      <td></td>\n      <td>-43.1795</td>\n      <td>-22.9154</td>\n      <td>Aqui vai um pouquinho da história da escadari...</td>\n    </tr>\n    <tr>\n      <th>1</th>\n      <td>11704287485</td>\n      <td>abcdosviajantes</td>\n      <td>66</td>\n      <td>27</td>\n      <td>Praia De Carro Quebrado</td>\n      <td>334376796650152</td>\n      <td>Maceió, Brazil</td>\n      <td>-35.7074</td>\n      <td>-9.66124</td>\n      <td>Se você está curioso sobre a origem do nome ...</td>\n    </tr>\n    <tr>\n      <th>2</th>\n      <td>11704287485</td>\n      <td>abcdosviajantes</td>\n      <td>45</td>\n      <td>8</td>\n      <td>NaN</td>\n      <td>NaN</td>\n      <td>NaN</td>\n      <td>NaN</td>\n      <td>NaN</td>\n      <td>A gastronomia no início de seu surgimento, er...</td>\n    </tr>\n    <tr>\n      <th>3</th>\n      <td>11704287485</td>\n      <td>abcdosviajantes</td>\n      <td>65</td>\n      <td>34</td>\n      <td>Pedra Do Arpoador</td>\n      <td>141182515999238</td>\n      <td></td>\n      <td>-43.1008</td>\n      <td>-22.8586</td>\n      <td>Você gosta de pôr do sol??? ☀️\\n\\nEntão aqu...</td>\n    </tr>\n    <tr>\n      <th>4</th>\n      <td>11704287485</td>\n      <td>abcdosviajantes</td>\n      <td>68</td>\n      <td>17</td>\n      <td>Maceió-Alagoas/ Nordeste Do Brasil</td>\n      <td>100437841374667</td>\n      <td></td>\n      <td>-35.7243</td>\n      <td>-9.62537</td>\n      <td>📍Dunas de Marapé, Alagoas.\\n\\nOntem perguntam...</td>\n    </tr>\n    <tr>\n      <th>...</th>\n      <td>...</td>\n      <td>...</td>\n      <td>...</td>\n      <td>...</td>\n      <td>...</td>\n      <td>...</td>\n      <td>...</td>\n      <td>...</td>\n      <td>...</td>\n      <td>...</td>\n    </tr>\n    <tr>\n      <th>403</th>\n      <td>191681166</td>\n      <td>jonolsson1</td>\n      <td>208337</td>\n      <td>484</td>\n      <td>NaN</td>\n      <td>NaN</td>\n      <td>NaN</td>\n      <td>NaN</td>\n      <td>NaN</td>\n      <td>Cant think of a much better way to spend my 38...</td>\n    </tr>\n    <tr>\n      <th>404</th>\n      <td>191681166</td>\n      <td>jonolsson1</td>\n      <td>172751</td>\n      <td>304</td>\n      <td>Marbella</td>\n      <td>108331215864513</td>\n      <td></td>\n      <td>-4.8855</td>\n      <td>36.509</td>\n      <td>Lord Hans The G is SOLD! 😳💔😭 \\n\\nAs much as I ...</td>\n    </tr>\n    <tr>\n      <th>405</th>\n      <td>191681166</td>\n      <td>jonolsson1</td>\n      <td>173081</td>\n      <td>407</td>\n      <td>Marbella</td>\n      <td>108331215864513</td>\n      <td></td>\n      <td>-4.8855</td>\n      <td>36.509</td>\n      <td>100% Ultimate Driveway Goals! 💯❤️\\n10.000.000€...</td>\n    </tr>\n    <tr>\n      <th>406</th>\n      <td>191681166</td>\n      <td>jonolsson1</td>\n      <td>237006</td>\n      <td>471</td>\n      <td>Marbella</td>\n      <td>108331215864513</td>\n      <td></td>\n      <td>-4.8855</td>\n      <td>36.509</td>\n      <td>Yes dad! 👶🏼🙌🏼👶🏼 The driveway is now Hypercar t...</td>\n    </tr>\n    <tr>\n      <th>407</th>\n      <td>191681166</td>\n      <td>jonolsson1</td>\n      <td>191799</td>\n      <td>422</td>\n      <td>Marbella</td>\n      <td>108331215864513</td>\n      <td></td>\n      <td>-4.8855</td>\n      <td>36.509</td>\n      <td>Who thinks @jannid likes to see me and Leon pl...</td>\n    </tr>\n  </tbody>\n</table>\n<p>408 rows × 10 columns</p>\n</div>"
     },
     "metadata": {},
     "execution_count": 49
    }
   ],
   "source": [
    "caption = pd.DataFrame(dict(final_data['caption'])).T\n",
    "text = caption['text']\n",
    "api_info = pd.concat([local_info, text], axis=1)\n",
    "api_info"
   ]
  },
  {
   "cell_type": "code",
   "execution_count": 50,
   "metadata": {},
   "outputs": [],
   "source": [
    "#api_info.to_excel('api_data.xlsx') # use that to generate only 10 profiles that I look the photos\n",
    "api_info.to_excel('api_28_data.xlsx')"
   ]
  },
  {
   "cell_type": "code",
   "execution_count": null,
   "metadata": {},
   "outputs": [],
   "source": []
  }
 ]
}