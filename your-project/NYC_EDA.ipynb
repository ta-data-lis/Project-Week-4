{
 "cells": [
  {
   "cell_type": "code",
   "execution_count": 103,
   "metadata": {},
   "outputs": [],
   "source": [
    "#importing libraries\n",
    "import pandas as pd\n",
    "import numpy as np\n",
    "import seaborn as sns\n",
    "import matplotlib.pyplot as plt"
   ]
  },
  {
   "cell_type": "code",
   "execution_count": 328,
   "metadata": {},
   "outputs": [
    {
     "data": {
      "text/html": [
       "<div>\n",
       "<style scoped>\n",
       "    .dataframe tbody tr th:only-of-type {\n",
       "        vertical-align: middle;\n",
       "    }\n",
       "\n",
       "    .dataframe tbody tr th {\n",
       "        vertical-align: top;\n",
       "    }\n",
       "\n",
       "    .dataframe thead th {\n",
       "        text-align: right;\n",
       "    }\n",
       "</style>\n",
       "<table border=\"1\" class=\"dataframe\">\n",
       "  <thead>\n",
       "    <tr style=\"text-align: right;\">\n",
       "      <th></th>\n",
       "      <th>Borough</th>\n",
       "      <th>Account Name</th>\n",
       "      <th>Meter Type</th>\n",
       "      <th>Funding Source</th>\n",
       "      <th>Bill Date</th>\n",
       "      <th># days</th>\n",
       "      <th>Meter Number</th>\n",
       "      <th>Total Costs($)</th>\n",
       "      <th>Rate Class</th>\n",
       "      <th>Bill Analyzed</th>\n",
       "      <th>Energy Consumption(KWh)</th>\n",
       "      <th>Power Consumption(KW)</th>\n",
       "    </tr>\n",
       "  </thead>\n",
       "  <tbody>\n",
       "    <tr>\n",
       "      <td>0</td>\n",
       "      <td>BRONX</td>\n",
       "      <td>ADAMS</td>\n",
       "      <td>NONE</td>\n",
       "      <td>FEDERAL</td>\n",
       "      <td>2010-01</td>\n",
       "      <td>33</td>\n",
       "      <td>7223256</td>\n",
       "      <td>15396.82</td>\n",
       "      <td>GOV/NYC/068</td>\n",
       "      <td>Yes</td>\n",
       "      <td>128800</td>\n",
       "      <td>216.0</td>\n",
       "    </tr>\n",
       "    <tr>\n",
       "      <td>1</td>\n",
       "      <td>BRONX</td>\n",
       "      <td>ADAMS</td>\n",
       "      <td>NONE</td>\n",
       "      <td>FEDERAL</td>\n",
       "      <td>2010-02</td>\n",
       "      <td>30</td>\n",
       "      <td>7223256</td>\n",
       "      <td>14556.34</td>\n",
       "      <td>GOV/NYC/068</td>\n",
       "      <td>Yes</td>\n",
       "      <td>115200</td>\n",
       "      <td>224.0</td>\n",
       "    </tr>\n",
       "    <tr>\n",
       "      <td>2</td>\n",
       "      <td>BRONX</td>\n",
       "      <td>ADAMS</td>\n",
       "      <td>NONE</td>\n",
       "      <td>FEDERAL</td>\n",
       "      <td>2010-03</td>\n",
       "      <td>29</td>\n",
       "      <td>7223256</td>\n",
       "      <td>13904.98</td>\n",
       "      <td>GOV/NYC/068</td>\n",
       "      <td>Yes</td>\n",
       "      <td>103200</td>\n",
       "      <td>216.0</td>\n",
       "    </tr>\n",
       "    <tr>\n",
       "      <td>3</td>\n",
       "      <td>BRONX</td>\n",
       "      <td>ADAMS</td>\n",
       "      <td>NONE</td>\n",
       "      <td>FEDERAL</td>\n",
       "      <td>2010-04</td>\n",
       "      <td>31</td>\n",
       "      <td>7223256</td>\n",
       "      <td>14764.04</td>\n",
       "      <td>GOV/NYC/068</td>\n",
       "      <td>Yes</td>\n",
       "      <td>105600</td>\n",
       "      <td>208.0</td>\n",
       "    </tr>\n",
       "    <tr>\n",
       "      <td>4</td>\n",
       "      <td>BRONX</td>\n",
       "      <td>ADAMS</td>\n",
       "      <td>NONE</td>\n",
       "      <td>FEDERAL</td>\n",
       "      <td>2010-05</td>\n",
       "      <td>28</td>\n",
       "      <td>7223256</td>\n",
       "      <td>13729.54</td>\n",
       "      <td>GOV/NYC/068</td>\n",
       "      <td>Yes</td>\n",
       "      <td>97600</td>\n",
       "      <td>216.0</td>\n",
       "    </tr>\n",
       "  </tbody>\n",
       "</table>\n",
       "</div>"
      ],
      "text/plain": [
       "  Borough Account Name Meter Type Funding Source Bill Date  # days  \\\n",
       "0   BRONX        ADAMS       NONE        FEDERAL   2010-01      33   \n",
       "1   BRONX        ADAMS       NONE        FEDERAL   2010-02      30   \n",
       "2   BRONX        ADAMS       NONE        FEDERAL   2010-03      29   \n",
       "3   BRONX        ADAMS       NONE        FEDERAL   2010-04      31   \n",
       "4   BRONX        ADAMS       NONE        FEDERAL   2010-05      28   \n",
       "\n",
       "  Meter Number  Total Costs($)   Rate Class Bill Analyzed  \\\n",
       "0      7223256        15396.82  GOV/NYC/068           Yes   \n",
       "1      7223256        14556.34  GOV/NYC/068           Yes   \n",
       "2      7223256        13904.98  GOV/NYC/068           Yes   \n",
       "3      7223256        14764.04  GOV/NYC/068           Yes   \n",
       "4      7223256        13729.54  GOV/NYC/068           Yes   \n",
       "\n",
       "   Energy Consumption(KWh)  Power Consumption(KW)  \n",
       "0                   128800                  216.0  \n",
       "1                   115200                  224.0  \n",
       "2                   103200                  216.0  \n",
       "3                   105600                  208.0  \n",
       "4                    97600                  216.0  "
      ]
     },
     "execution_count": 328,
     "metadata": {},
     "output_type": "execute_result"
    }
   ],
   "source": [
    "ds = pd.read_csv('NYC_clean.csv')\n",
    "ds = ds.drop('Unnamed: 0', axis = 1)\n",
    "ds.head()"
   ]
  },
  {
   "cell_type": "markdown",
   "metadata": {},
   "source": [
    "# EDA"
   ]
  },
  {
   "cell_type": "code",
   "execution_count": 329,
   "metadata": {},
   "outputs": [],
   "source": [
    "'''This dataset has FHA and Non development facility on borough column when they are not \n",
    "NYC boroughs. FHA are federal development housing admisnistration loans so they should not be \n",
    "in this column. Non development facility are non residential buildings developments which will also\n",
    "not considered in the boroughs.'''\n",
    "\n",
    "# dropping all Boroughs rows which are FHA and NON development\n",
    "\n",
    "ds = ds.drop(ds[ds.Borough == 'FHA'].index)\n",
    "ds = ds.drop(ds[ds.Borough == 'NON DEVELOPMENT FACILITY'].index)"
   ]
  },
  {
   "cell_type": "code",
   "execution_count": 330,
   "metadata": {},
   "outputs": [],
   "source": [
    "#ds.loc[(ds['Borough'] == 'MANHATTAN') | (ds['Borough'] == 'NON DEVELOPMENT FACILITY'),\n",
    " #     'Energy Consumption(KWh)'].sum()"
   ]
  },
  {
   "cell_type": "code",
   "execution_count": 331,
   "metadata": {},
   "outputs": [
    {
     "data": {
      "text/plain": [
       "<matplotlib.axes._subplots.AxesSubplot at 0x1a275d8490>"
      ]
     },
     "execution_count": 331,
     "metadata": {},
     "output_type": "execute_result"
    },
    {
     "data": {
      "image/png": "[encoded data removed]",
      "text/plain": [
       "<Figure size 432x288 with 1 Axes>"
      ]
     },
     "metadata": {},
     "output_type": "display_data"
    }
   ],
   "source": [
    "# Checking for outliers in energy consumption and total costs\n",
    "sns.set(font_scale = 1)\n",
    "sns.boxplot(ds['Borough'], ds['Energy Consumption(KWh)'])"
   ]
  },
  {
   "cell_type": "code",
   "execution_count": 332,
   "metadata": {},
   "outputs": [],
   "source": [
    "# Removing outliers from energy and costs columns\n",
    "ds = ds.drop(ds[ds['Energy Consumption(KWh)'] > 500000].index)\n",
    "ds = ds.drop(ds[ds['Total Costs($)'] > 75000.00].index)\n",
    "ds = ds.drop(ds[(ds['Bill Date'] == '2019-01') |\n",
    "                (ds['Bill Date'] == '2019-02') |\n",
    "                (ds['Bill Date'] == '2019-03') |\n",
    "                (ds['Bill Date'] == '2019-04') |\n",
    "                (ds['Bill Date'] == '2019-05') |\n",
    "                (ds['Bill Date'] == '2019-06') |\n",
    "                (ds['Bill Date'] == '2019-08') |\n",
    "                (ds['Bill Date'] == '2019-09')].index)"
   ]
  },
  {
   "cell_type": "code",
   "execution_count": 309,
   "metadata": {},
   "outputs": [
    {
     "data": {
      "text/html": [
       "<div>\n",
       "<style scoped>\n",
       "    .dataframe tbody tr th:only-of-type {\n",
       "        vertical-align: middle;\n",
       "    }\n",
       "\n",
       "    .dataframe tbody tr th {\n",
       "        vertical-align: top;\n",
       "    }\n",
       "\n",
       "    .dataframe thead th {\n",
       "        text-align: right;\n",
       "    }\n",
       "</style>\n",
       "<table border=\"1\" class=\"dataframe\">\n",
       "  <thead>\n",
       "    <tr style=\"text-align: right;\">\n",
       "      <th></th>\n",
       "      <th>Energy Consumption(KWh)</th>\n",
       "      <th>Total Costs($)</th>\n",
       "    </tr>\n",
       "    <tr>\n",
       "      <th>Borough</th>\n",
       "      <th></th>\n",
       "      <th></th>\n",
       "    </tr>\n",
       "  </thead>\n",
       "  <tbody>\n",
       "    <tr>\n",
       "      <td>BRONX</td>\n",
       "      <td>2145997151</td>\n",
       "      <td>2.930450e+08</td>\n",
       "    </tr>\n",
       "    <tr>\n",
       "      <td>BROOKLYN</td>\n",
       "      <td>2779053423</td>\n",
       "      <td>3.718460e+08</td>\n",
       "    </tr>\n",
       "    <tr>\n",
       "      <td>MANHATTAN</td>\n",
       "      <td>2503894671</td>\n",
       "      <td>3.466276e+08</td>\n",
       "    </tr>\n",
       "    <tr>\n",
       "      <td>QUEENS</td>\n",
       "      <td>763006723</td>\n",
       "      <td>1.078849e+08</td>\n",
       "    </tr>\n",
       "    <tr>\n",
       "      <td>STATEN ISLAND</td>\n",
       "      <td>209565568</td>\n",
       "      <td>2.830788e+07</td>\n",
       "    </tr>\n",
       "  </tbody>\n",
       "</table>\n",
       "</div>"
      ],
      "text/plain": [
       "               Energy Consumption(KWh)  Total Costs($)\n",
       "Borough                                               \n",
       "BRONX                       2145997151    2.930450e+08\n",
       "BROOKLYN                    2779053423    3.718460e+08\n",
       "MANHATTAN                   2503894671    3.466276e+08\n",
       "QUEENS                       763006723    1.078849e+08\n",
       "STATEN ISLAND                209565568    2.830788e+07"
      ]
     },
     "execution_count": 309,
     "metadata": {},
     "output_type": "execute_result"
    }
   ],
   "source": [
    "ds.pivot_table(index=['Borough'], \n",
    "               values= ['Energy Consumption(KWh)', 'Total Costs($)'],\n",
    "               aggfunc = {'Energy Consumption(KWh)': np.sum,\n",
    "                         'Total Costs($)': np.sum})"
   ]
  },
  {
   "cell_type": "code",
   "execution_count": 352,
   "metadata": {
    "scrolled": false
   },
   "outputs": [
    {
     "data": {
      "image/png": "[encoded data removed]",
      "text/plain": [
       "<Figure size 1872x864 with 1 Axes>"
      ]
     },
     "metadata": {},
     "output_type": "display_data"
    }
   ],
   "source": [
    "sns.set(font_scale = 1.8)\n",
    "plt.style.use('dark_background')\n",
    "plt.figure(figsize=(26,12))\n",
    "\n",
    "sns.barplot(x='Bill Date', y='Energy Consumption(KWh)', \n",
    "            estimator = np.sum,\n",
    "            data=ds)\n",
    "\n",
    "ax = plt.xticks(rotation=85)\n",
    "plt.title('Energy Consumption per Month in NYC (2010-2017)')\n",
    "plt.xlabel('Year and month')\n",
    "plt.ylabel('Energy Consumption(KWh)')\n",
    "\n",
    "plt.savefig('energy.yearournd.png', bbox_inches = 'tight', transparent = True)"
   ]
  },
  {
   "cell_type": "code",
   "execution_count": 319,
   "metadata": {
    "scrolled": true
   },
   "outputs": [
    {
     "data": {
      "image/png": "[encoded data removed]",
      "text/plain": [
       "<Figure size 504x360 with 1 Axes>"
      ]
     },
     "metadata": {},
     "output_type": "display_data"
    }
   ],
   "source": [
    "sns.set(font_scale = 1.3)\n",
    "plt.style.use('dark_background')\n",
    "plt.figure(figsize=(7,5))\n",
    "plt.title('Total Energy Consumption per Borough in NYC (2010-2017)')\n",
    "\n",
    "sns.barplot(x='Energy Consumption(KWh)', y='Borough', estimator = np.sum, data=ds, \n",
    "            orient='h', saturation=2.5)\n",
    "\n",
    "ax = plt.xticks(rotation=65)\n",
    "\n",
    "plt.savefig('energy.perborough.png', bbox_inches = 'tight', transparent = True)"
   ]
  },
  {
   "cell_type": "code",
   "execution_count": 52,
   "metadata": {},
   "outputs": [
    {
     "data": {
      "text/html": [
       "<div>\n",
       "<style scoped>\n",
       "    .dataframe tbody tr th:only-of-type {\n",
       "        vertical-align: middle;\n",
       "    }\n",
       "\n",
       "    .dataframe tbody tr th {\n",
       "        vertical-align: top;\n",
       "    }\n",
       "\n",
       "    .dataframe thead th {\n",
       "        text-align: right;\n",
       "    }\n",
       "</style>\n",
       "<table border=\"1\" class=\"dataframe\">\n",
       "  <thead>\n",
       "    <tr style=\"text-align: right;\">\n",
       "      <th></th>\n",
       "      <th>Energy Consumption(KWh)</th>\n",
       "      <th>Total Costs($)</th>\n",
       "    </tr>\n",
       "    <tr>\n",
       "      <th>Bill Date</th>\n",
       "      <th></th>\n",
       "      <th></th>\n",
       "    </tr>\n",
       "  </thead>\n",
       "  <tbody>\n",
       "    <tr>\n",
       "      <td>2010-01</td>\n",
       "      <td>44150.889706</td>\n",
       "      <td>5395.328391</td>\n",
       "    </tr>\n",
       "    <tr>\n",
       "      <td>2010-02</td>\n",
       "      <td>37828.585263</td>\n",
       "      <td>4684.196989</td>\n",
       "    </tr>\n",
       "    <tr>\n",
       "      <td>2010-03</td>\n",
       "      <td>35915.041021</td>\n",
       "      <td>4666.750540</td>\n",
       "    </tr>\n",
       "    <tr>\n",
       "      <td>2010-04</td>\n",
       "      <td>35592.874269</td>\n",
       "      <td>4977.514553</td>\n",
       "    </tr>\n",
       "    <tr>\n",
       "      <td>2010-05</td>\n",
       "      <td>35923.316271</td>\n",
       "      <td>5089.231935</td>\n",
       "    </tr>\n",
       "    <tr>\n",
       "      <td>...</td>\n",
       "      <td>...</td>\n",
       "      <td>...</td>\n",
       "    </tr>\n",
       "    <tr>\n",
       "      <td>2017-08</td>\n",
       "      <td>34775.164138</td>\n",
       "      <td>4880.000598</td>\n",
       "    </tr>\n",
       "    <tr>\n",
       "      <td>2017-09</td>\n",
       "      <td>30648.927662</td>\n",
       "      <td>4918.561111</td>\n",
       "    </tr>\n",
       "    <tr>\n",
       "      <td>2017-10</td>\n",
       "      <td>30951.007626</td>\n",
       "      <td>3911.695675</td>\n",
       "    </tr>\n",
       "    <tr>\n",
       "      <td>2017-11</td>\n",
       "      <td>26563.761649</td>\n",
       "      <td>2982.038649</td>\n",
       "    </tr>\n",
       "    <tr>\n",
       "      <td>2017-12</td>\n",
       "      <td>28171.163250</td>\n",
       "      <td>3458.850732</td>\n",
       "    </tr>\n",
       "  </tbody>\n",
       "</table>\n",
       "<p>84 rows × 2 columns</p>\n",
       "</div>"
      ],
      "text/plain": [
       "           Energy Consumption(KWh)  Total Costs($)\n",
       "Bill Date                                         \n",
       "2010-01               44150.889706     5395.328391\n",
       "2010-02               37828.585263     4684.196989\n",
       "2010-03               35915.041021     4666.750540\n",
       "2010-04               35592.874269     4977.514553\n",
       "2010-05               35923.316271     5089.231935\n",
       "...                            ...             ...\n",
       "2017-08               34775.164138     4880.000598\n",
       "2017-09               30648.927662     4918.561111\n",
       "2017-10               30951.007626     3911.695675\n",
       "2017-11               26563.761649     2982.038649\n",
       "2017-12               28171.163250     3458.850732\n",
       "\n",
       "[84 rows x 2 columns]"
      ]
     },
     "execution_count": 52,
     "metadata": {},
     "output_type": "execute_result"
    }
   ],
   "source": [
    "# Checking Removing last month from dataset beacause it has a peak\n",
    "ds.pivot_table(index=['Bill Date'], \n",
    "               values= ['Energy Consumption(KWh)', 'Total Costs($)'])"
   ]
  },
  {
   "cell_type": "code",
   "execution_count": 321,
   "metadata": {},
   "outputs": [],
   "source": [
    "# Grouping energy consumption values by year\n",
    "def getyear(s):\n",
    "  return s.split(\"-\")[0]"
   ]
  },
  {
   "cell_type": "code",
   "execution_count": 322,
   "metadata": {},
   "outputs": [
    {
     "data": {
      "text/html": [
       "<div>\n",
       "<style scoped>\n",
       "    .dataframe tbody tr th:only-of-type {\n",
       "        vertical-align: middle;\n",
       "    }\n",
       "\n",
       "    .dataframe tbody tr th {\n",
       "        vertical-align: top;\n",
       "    }\n",
       "\n",
       "    .dataframe thead th {\n",
       "        text-align: right;\n",
       "    }\n",
       "</style>\n",
       "<table border=\"1\" class=\"dataframe\">\n",
       "  <thead>\n",
       "    <tr style=\"text-align: right;\">\n",
       "      <th></th>\n",
       "      <th>Borough</th>\n",
       "      <th>Account Name</th>\n",
       "      <th>Meter Type</th>\n",
       "      <th>Funding Source</th>\n",
       "      <th>Bill Date</th>\n",
       "      <th># days</th>\n",
       "      <th>Meter Number</th>\n",
       "      <th>Total Costs($)</th>\n",
       "      <th>Rate Class</th>\n",
       "      <th>Bill Analyzed</th>\n",
       "      <th>Energy Consumption(KWh)</th>\n",
       "      <th>Power Consumption(KW)</th>\n",
       "      <th>Year</th>\n",
       "    </tr>\n",
       "  </thead>\n",
       "  <tbody>\n",
       "    <tr>\n",
       "      <td>0</td>\n",
       "      <td>BRONX</td>\n",
       "      <td>ADAMS</td>\n",
       "      <td>NONE</td>\n",
       "      <td>FEDERAL</td>\n",
       "      <td>2010-01</td>\n",
       "      <td>33</td>\n",
       "      <td>7223256</td>\n",
       "      <td>15396.82</td>\n",
       "      <td>GOV/NYC/068</td>\n",
       "      <td>Yes</td>\n",
       "      <td>128800</td>\n",
       "      <td>216.0</td>\n",
       "      <td>2010</td>\n",
       "    </tr>\n",
       "    <tr>\n",
       "      <td>1</td>\n",
       "      <td>BRONX</td>\n",
       "      <td>ADAMS</td>\n",
       "      <td>NONE</td>\n",
       "      <td>FEDERAL</td>\n",
       "      <td>2010-02</td>\n",
       "      <td>30</td>\n",
       "      <td>7223256</td>\n",
       "      <td>14556.34</td>\n",
       "      <td>GOV/NYC/068</td>\n",
       "      <td>Yes</td>\n",
       "      <td>115200</td>\n",
       "      <td>224.0</td>\n",
       "      <td>2010</td>\n",
       "    </tr>\n",
       "    <tr>\n",
       "      <td>2</td>\n",
       "      <td>BRONX</td>\n",
       "      <td>ADAMS</td>\n",
       "      <td>NONE</td>\n",
       "      <td>FEDERAL</td>\n",
       "      <td>2010-03</td>\n",
       "      <td>29</td>\n",
       "      <td>7223256</td>\n",
       "      <td>13904.98</td>\n",
       "      <td>GOV/NYC/068</td>\n",
       "      <td>Yes</td>\n",
       "      <td>103200</td>\n",
       "      <td>216.0</td>\n",
       "      <td>2010</td>\n",
       "    </tr>\n",
       "    <tr>\n",
       "      <td>3</td>\n",
       "      <td>BRONX</td>\n",
       "      <td>ADAMS</td>\n",
       "      <td>NONE</td>\n",
       "      <td>FEDERAL</td>\n",
       "      <td>2010-04</td>\n",
       "      <td>31</td>\n",
       "      <td>7223256</td>\n",
       "      <td>14764.04</td>\n",
       "      <td>GOV/NYC/068</td>\n",
       "      <td>Yes</td>\n",
       "      <td>105600</td>\n",
       "      <td>208.0</td>\n",
       "      <td>2010</td>\n",
       "    </tr>\n",
       "    <tr>\n",
       "      <td>4</td>\n",
       "      <td>BRONX</td>\n",
       "      <td>ADAMS</td>\n",
       "      <td>NONE</td>\n",
       "      <td>FEDERAL</td>\n",
       "      <td>2010-05</td>\n",
       "      <td>28</td>\n",
       "      <td>7223256</td>\n",
       "      <td>13729.54</td>\n",
       "      <td>GOV/NYC/068</td>\n",
       "      <td>Yes</td>\n",
       "      <td>97600</td>\n",
       "      <td>216.0</td>\n",
       "      <td>2010</td>\n",
       "    </tr>\n",
       "  </tbody>\n",
       "</table>\n",
       "</div>"
      ],
      "text/plain": [
       "  Borough Account Name Meter Type Funding Source Bill Date  # days  \\\n",
       "0   BRONX        ADAMS       NONE        FEDERAL   2010-01      33   \n",
       "1   BRONX        ADAMS       NONE        FEDERAL   2010-02      30   \n",
       "2   BRONX        ADAMS       NONE        FEDERAL   2010-03      29   \n",
       "3   BRONX        ADAMS       NONE        FEDERAL   2010-04      31   \n",
       "4   BRONX        ADAMS       NONE        FEDERAL   2010-05      28   \n",
       "\n",
       "  Meter Number  Total Costs($)   Rate Class Bill Analyzed  \\\n",
       "0      7223256        15396.82  GOV/NYC/068           Yes   \n",
       "1      7223256        14556.34  GOV/NYC/068           Yes   \n",
       "2      7223256        13904.98  GOV/NYC/068           Yes   \n",
       "3      7223256        14764.04  GOV/NYC/068           Yes   \n",
       "4      7223256        13729.54  GOV/NYC/068           Yes   \n",
       "\n",
       "   Energy Consumption(KWh)  Power Consumption(KW)  Year  \n",
       "0                   128800                  216.0  2010  \n",
       "1                   115200                  224.0  2010  \n",
       "2                   103200                  216.0  2010  \n",
       "3                   105600                  208.0  2010  \n",
       "4                    97600                  216.0  2010  "
      ]
     },
     "execution_count": 322,
     "metadata": {},
     "output_type": "execute_result"
    }
   ],
   "source": [
    "ds['Year']= ds['Bill Date'].apply(lambda x: getyear(x))\n",
    "ds.head()"
   ]
  },
  {
   "cell_type": "code",
   "execution_count": 323,
   "metadata": {},
   "outputs": [
    {
     "data": {
      "text/html": [
       "<div>\n",
       "<style scoped>\n",
       "    .dataframe tbody tr th:only-of-type {\n",
       "        vertical-align: middle;\n",
       "    }\n",
       "\n",
       "    .dataframe tbody tr th {\n",
       "        vertical-align: top;\n",
       "    }\n",
       "\n",
       "    .dataframe thead tr th {\n",
       "        text-align: left;\n",
       "    }\n",
       "\n",
       "    .dataframe thead tr:last-of-type th {\n",
       "        text-align: right;\n",
       "    }\n",
       "</style>\n",
       "<table border=\"1\" class=\"dataframe\">\n",
       "  <thead>\n",
       "    <tr>\n",
       "      <th></th>\n",
       "      <th colspan=\"3\" halign=\"left\">Energy Consumption(KWh)</th>\n",
       "    </tr>\n",
       "    <tr>\n",
       "      <th></th>\n",
       "      <th>max</th>\n",
       "      <th>mean</th>\n",
       "      <th>sum</th>\n",
       "    </tr>\n",
       "    <tr>\n",
       "      <th>Year</th>\n",
       "      <th></th>\n",
       "      <th></th>\n",
       "      <th></th>\n",
       "    </tr>\n",
       "  </thead>\n",
       "  <tbody>\n",
       "    <tr>\n",
       "      <td>2010</td>\n",
       "      <td>495200.0</td>\n",
       "      <td>42911.360213</td>\n",
       "      <td>1.242026e+09</td>\n",
       "    </tr>\n",
       "    <tr>\n",
       "      <td>2012</td>\n",
       "      <td>500000.0</td>\n",
       "      <td>35201.116844</td>\n",
       "      <td>1.221936e+09</td>\n",
       "    </tr>\n",
       "    <tr>\n",
       "      <td>2013</td>\n",
       "      <td>500000.0</td>\n",
       "      <td>31684.565282</td>\n",
       "      <td>1.203190e+09</td>\n",
       "    </tr>\n",
       "    <tr>\n",
       "      <td>2014</td>\n",
       "      <td>495200.0</td>\n",
       "      <td>29636.208263</td>\n",
       "      <td>1.164170e+09</td>\n",
       "    </tr>\n",
       "    <tr>\n",
       "      <td>2015</td>\n",
       "      <td>495200.0</td>\n",
       "      <td>30228.266759</td>\n",
       "      <td>1.218381e+09</td>\n",
       "    </tr>\n",
       "    <tr>\n",
       "      <td>2016</td>\n",
       "      <td>499200.0</td>\n",
       "      <td>30306.446440</td>\n",
       "      <td>1.230139e+09</td>\n",
       "    </tr>\n",
       "    <tr>\n",
       "      <td>2017</td>\n",
       "      <td>498400.0</td>\n",
       "      <td>29298.828780</td>\n",
       "      <td>1.121676e+09</td>\n",
       "    </tr>\n",
       "  </tbody>\n",
       "</table>\n",
       "</div>"
      ],
      "text/plain": [
       "     Energy Consumption(KWh)                            \n",
       "                         max          mean           sum\n",
       "Year                                                    \n",
       "2010                495200.0  42911.360213  1.242026e+09\n",
       "2012                500000.0  35201.116844  1.221936e+09\n",
       "2013                500000.0  31684.565282  1.203190e+09\n",
       "2014                495200.0  29636.208263  1.164170e+09\n",
       "2015                495200.0  30228.266759  1.218381e+09\n",
       "2016                499200.0  30306.446440  1.230139e+09\n",
       "2017                498400.0  29298.828780  1.121676e+09"
      ]
     },
     "execution_count": 323,
     "metadata": {},
     "output_type": "execute_result"
    }
   ],
   "source": [
    "ds.pivot_table(index=['Year'], \n",
    "               values= ['Energy Consumption(KWh)', 'Total Costs($)'],\n",
    "              aggfunc={'Energy Consumption(KWh)': [max, 'mean', np.sum]})"
   ]
  },
  {
   "cell_type": "code",
   "execution_count": 327,
   "metadata": {},
   "outputs": [
    {
     "data": {
      "image/png": "[encoded data removed]",
      "text/plain": [
       "<Figure size 864x432 with 1 Axes>"
      ]
     },
     "metadata": {},
     "output_type": "display_data"
    }
   ],
   "source": [
    "# Final plot of total energy consumption in each month for the last 8 years\n",
    "sns.set(font_scale = 1.5)\n",
    "plt.style.use('dark_background')\n",
    "plt.figure(figsize=(12, 6))\n",
    "\n",
    "ax = sns.barplot(x='Year', y='Energy Consumption(KWh)', \n",
    "                 data=ds, \n",
    "                 estimator=np.sum,\n",
    "                 saturation=1.5)\n",
    "\n",
    "ax = plt.xticks(rotation=0)\n",
    "plt.title(\"Total energy consumption per year in New York City (2010-2017)\")\n",
    "plt.xlabel('\\nYear')\n",
    "plt.ylabel('Energy Consumption(KWh)')\n",
    "\n",
    "plt.savefig('energy_peryear.png', bbox_inches = 'tight', transparent = True)"
   ]
  },
  {
   "cell_type": "markdown",
   "metadata": {},
   "source": [
    "# Statistical Analysis"
   ]
  },
  {
   "cell_type": "code",
   "execution_count": 335,
   "metadata": {},
   "outputs": [],
   "source": [
    "import scipy\n",
    "from scipy import stats\n",
    "from scipy.stats import chisquare"
   ]
  },
  {
   "cell_type": "code",
   "execution_count": 336,
   "metadata": {},
   "outputs": [
    {
     "data": {
      "text/html": [
       "<div>\n",
       "<style scoped>\n",
       "    .dataframe tbody tr th:only-of-type {\n",
       "        vertical-align: middle;\n",
       "    }\n",
       "\n",
       "    .dataframe tbody tr th {\n",
       "        vertical-align: top;\n",
       "    }\n",
       "\n",
       "    .dataframe thead th {\n",
       "        text-align: right;\n",
       "    }\n",
       "</style>\n",
       "<table border=\"1\" class=\"dataframe\">\n",
       "  <thead>\n",
       "    <tr style=\"text-align: right;\">\n",
       "      <th></th>\n",
       "      <th># days</th>\n",
       "      <th>Total Costs($)</th>\n",
       "      <th>Energy Consumption(KWh)</th>\n",
       "      <th>Power Consumption(KW)</th>\n",
       "    </tr>\n",
       "  </thead>\n",
       "  <tbody>\n",
       "    <tr>\n",
       "      <td>count</td>\n",
       "      <td>263213.000000</td>\n",
       "      <td>263213.000000</td>\n",
       "      <td>263213.000000</td>\n",
       "      <td>263213.000000</td>\n",
       "    </tr>\n",
       "    <tr>\n",
       "      <td>mean</td>\n",
       "      <td>30.388769</td>\n",
       "      <td>4420.168131</td>\n",
       "      <td>32360.697367</td>\n",
       "      <td>65.573561</td>\n",
       "    </tr>\n",
       "    <tr>\n",
       "      <td>std</td>\n",
       "      <td>1.546134</td>\n",
       "      <td>5729.238712</td>\n",
       "      <td>46514.256179</td>\n",
       "      <td>113.616968</td>\n",
       "    </tr>\n",
       "    <tr>\n",
       "      <td>min</td>\n",
       "      <td>1.000000</td>\n",
       "      <td>-243.150000</td>\n",
       "      <td>0.000000</td>\n",
       "      <td>0.000000</td>\n",
       "    </tr>\n",
       "    <tr>\n",
       "      <td>25%</td>\n",
       "      <td>29.000000</td>\n",
       "      <td>380.580000</td>\n",
       "      <td>0.000000</td>\n",
       "      <td>0.000000</td>\n",
       "    </tr>\n",
       "    <tr>\n",
       "      <td>50%</td>\n",
       "      <td>30.000000</td>\n",
       "      <td>2820.140000</td>\n",
       "      <td>17440.000000</td>\n",
       "      <td>30.060000</td>\n",
       "    </tr>\n",
       "    <tr>\n",
       "      <td>75%</td>\n",
       "      <td>32.000000</td>\n",
       "      <td>6083.040000</td>\n",
       "      <td>48900.000000</td>\n",
       "      <td>96.800000</td>\n",
       "    </tr>\n",
       "    <tr>\n",
       "      <td>max</td>\n",
       "      <td>123.000000</td>\n",
       "      <td>74873.670000</td>\n",
       "      <td>500000.000000</td>\n",
       "      <td>16135.460000</td>\n",
       "    </tr>\n",
       "  </tbody>\n",
       "</table>\n",
       "</div>"
      ],
      "text/plain": [
       "              # days  Total Costs($)  Energy Consumption(KWh)  \\\n",
       "count  263213.000000   263213.000000            263213.000000   \n",
       "mean       30.388769     4420.168131             32360.697367   \n",
       "std         1.546134     5729.238712             46514.256179   \n",
       "min         1.000000     -243.150000                 0.000000   \n",
       "25%        29.000000      380.580000                 0.000000   \n",
       "50%        30.000000     2820.140000             17440.000000   \n",
       "75%        32.000000     6083.040000             48900.000000   \n",
       "max       123.000000    74873.670000            500000.000000   \n",
       "\n",
       "       Power Consumption(KW)  \n",
       "count          263213.000000  \n",
       "mean               65.573561  \n",
       "std               113.616968  \n",
       "min                 0.000000  \n",
       "25%                 0.000000  \n",
       "50%                30.060000  \n",
       "75%                96.800000  \n",
       "max             16135.460000  "
      ]
     },
     "execution_count": 336,
     "metadata": {},
     "output_type": "execute_result"
    }
   ],
   "source": [
    "ds.describe()"
   ]
  },
  {
   "cell_type": "code",
   "execution_count": 337,
   "metadata": {},
   "outputs": [
    {
     "data": {
      "text/plain": [
       "32360.697366771397"
      ]
     },
     "execution_count": 337,
     "metadata": {},
     "output_type": "execute_result"
    }
   ],
   "source": [
    "mu = ds['Energy Consumption(KWh)'].mean()\n",
    "mu"
   ]
  },
  {
   "cell_type": "code",
   "execution_count": 338,
   "metadata": {},
   "outputs": [
    {
     "data": {
      "text/plain": [
       "46514.25617896979"
      ]
     },
     "execution_count": 338,
     "metadata": {},
     "output_type": "execute_result"
    }
   ],
   "source": [
    "sigma = ds['Energy Consumption(KWh)'].std()\n",
    "sigma"
   ]
  },
  {
   "cell_type": "markdown",
   "metadata": {},
   "source": [
    "# Chi square test"
   ]
  },
  {
   "cell_type": "raw",
   "metadata": {},
   "source": [
    "The H0 is that the two distributions are the same\n",
    "The H1 is that the two distributions are different\n",
    "\n",
    "If the P value is lower than 0.05 (95% interval) then you can reject the H0 hypothesis and accept H1 (the distributions are different)\n",
    "If the P value is higher than H0 can not be rejected (so assume that the distributions are the same).\n",
    " \n",
    "Chi Squared test:\n",
    "A very small chi square test statistic means that your observed data fits your expected data \n",
    "extremely well. In other words, there is a relationship.\n",
    "A very large chi square test statistic means that the data does not fit very well. In other words, there isn’t a relationship.\n"
   ]
  },
  {
   "cell_type": "code",
   "execution_count": 339,
   "metadata": {},
   "outputs": [
    {
     "data": {
      "text/plain": [
       "58287.809724170176"
      ]
     },
     "execution_count": 339,
     "metadata": {},
     "output_type": "execute_result"
    }
   ],
   "source": [
    "ds_2015 = ds[ds['Bill Date'] == '2015-07']['Energy Consumption(KWh)']\n",
    "ds_no_zeros_2015 = ds_2015[ds_2015 > 0]\n",
    "len(ds_no_zeros_2015)\n",
    "ds_no_zeros_2015.mean()"
   ]
  },
  {
   "cell_type": "code",
   "execution_count": 340,
   "metadata": {},
   "outputs": [
    {
     "data": {
      "text/plain": [
       "64592.36491739553"
      ]
     },
     "execution_count": 340,
     "metadata": {},
     "output_type": "execute_result"
    }
   ],
   "source": [
    "ds_2017 = ds[ds['Bill Date'] == '2017-07']['Energy Consumption(KWh)']\n",
    "ds_no_zeros_2017 = ds_2017[ds_2017 > 0]\n",
    "len(ds_no_zeros_2017)\n",
    "ds_no_zeros_2017.mean()"
   ]
  },
  {
   "cell_type": "code",
   "execution_count": 341,
   "metadata": {},
   "outputs": [
    {
     "data": {
      "text/plain": [
       "48132.71379814725"
      ]
     },
     "execution_count": 341,
     "metadata": {},
     "output_type": "execute_result"
    }
   ],
   "source": [
    "ds_2019 = ds[ds['Bill Date'] == '2017-09']['Energy Consumption(KWh)']\n",
    "ds_no_zeros_2019 = ds_2019[ds_2019 > 0]\n",
    "len(ds_no_zeros_2019)\n",
    "ds_no_zeros_2019.mean()"
   ]
  },
  {
   "cell_type": "code",
   "execution_count": 356,
   "metadata": {},
   "outputs": [],
   "source": [
    "observed_values = scipy.array(ds_no_zeros_2015.sample(n = 500, random_state=1))\n",
    "expected_values = scipy.array(ds_no_zeros_2019.sample(n = 500, random_state=1))\n"
   ]
  },
  {
   "cell_type": "code",
   "execution_count": 345,
   "metadata": {},
   "outputs": [
    {
     "data": {
      "text/plain": [
       "Power_divergenceResult(statistic=819112226.5099442, pvalue=0.0)"
      ]
     },
     "execution_count": 345,
     "metadata": {},
     "output_type": "execute_result"
    }
   ],
   "source": [
    "stats.chisquare(observed_values, f_exp=expected_values)"
   ]
  },
  {
   "cell_type": "code",
   "execution_count": 346,
   "metadata": {},
   "outputs": [
    {
     "data": {
      "image/png": "[encoded data removed]",
      "text/plain": [
       "<Figure size 432x288 with 1 Axes>"
      ]
     },
     "metadata": {},
     "output_type": "display_data"
    }
   ],
   "source": [
    "plt.plot(observed_values, label = 'Observed values')\n",
    "plt.plot(expected_values, label = 'Expected values')\n",
    "plt.legend()\n",
    "plt.show()"
   ]
  },
  {
   "cell_type": "markdown",
   "metadata": {},
   "source": [
    "# Two Samples t-student test\n"
   ]
  },
  {
   "cell_type": "raw",
   "metadata": {},
   "source": [
    "The H0 is that the mean of the two samples is the same\n",
    "The H1 is that the two means are different\n",
    "If the P value is lower than 0.05 (95% interval) then you can reject the H0 hypothesis and accept H1 (the means are different)\n",
    "If the P value is higher than H0 can not be rejected (so assume that the averages are the same)."
   ]
  },
  {
   "cell_type": "code",
   "execution_count": 360,
   "metadata": {},
   "outputs": [
    {
     "data": {
      "text/plain": [
       "58287.809724170176"
      ]
     },
     "execution_count": 360,
     "metadata": {},
     "output_type": "execute_result"
    }
   ],
   "source": [
    "# 2015 Sample\n",
    "ds_2015 = ds[ds['Bill Date'] == '2015-07']['Energy Consumption(KWh)']\n",
    "ds_no_zeros_2015 = ds_2015[ds_2015 > 0]\n",
    "ds_no_zeros_2015.mean()"
   ]
  },
  {
   "cell_type": "code",
   "execution_count": 361,
   "metadata": {},
   "outputs": [
    {
     "data": {
      "text/plain": [
       "64592.36491739553"
      ]
     },
     "execution_count": 361,
     "metadata": {},
     "output_type": "execute_result"
    }
   ],
   "source": [
    "# 2017 Sample\n",
    "ds_2017 = ds[ds['Bill Date'] == '2017-07']['Energy Consumption(KWh)']\n",
    "ds_no_zeros_2017 = ds_2017[ds_2017 > 0]\n",
    "ds_no_zeros_2017.mean()"
   ]
  },
  {
   "cell_type": "code",
   "execution_count": 362,
   "metadata": {},
   "outputs": [
    {
     "data": {
      "text/plain": [
       "48132.71379814725"
      ]
     },
     "execution_count": 362,
     "metadata": {},
     "output_type": "execute_result"
    }
   ],
   "source": [
    "# 2019 sample\n",
    "ds_2019 = ds[ds['Bill Date'] == '2017-09']['Energy Consumption(KWh)']\n",
    "ds_no_zeros_2019 = ds_2019[ds_2019 > 0]\n",
    "len(ds_no_zeros_2019)\n",
    "ds_no_zeros_2019.mean()"
   ]
  },
  {
   "cell_type": "code",
   "execution_count": 364,
   "metadata": {},
   "outputs": [],
   "source": [
    "observed_values = scipy.array(ds_no_zeros_2015.sample(n = 500, random_state=1))\n",
    "expected_values = scipy.array(ds_no_zeros_2017.sample(n = 500, random_state=1))"
   ]
  },
  {
   "cell_type": "code",
   "execution_count": 365,
   "metadata": {},
   "outputs": [
    {
     "name": "stdout",
     "output_type": "stream",
     "text": [
      "t statitics = -1.097699431291667 \n",
      "p-value = 0.2726039122943011\n"
     ]
    }
   ],
   "source": [
    "# t test between 2015 and 2017\n",
    "sample_2015 = np.array(ds_no_zeros_2015.sample(n = 500, random_state=156))\n",
    "sample_2017 = np.array(ds_no_zeros_2017.sample(n = 500, random_state=156))\n",
    "\n",
    "t_stats, p_value = stats.ttest_ind(sample_2015, sample_2017, equal_var=False)\n",
    "print('t statitics =', t_stats, '\\np-value =', p_value)"
   ]
  },
  {
   "cell_type": "code",
   "execution_count": null,
   "metadata": {},
   "outputs": [],
   "source": [
    "# CONCLUSION: the P value is higher than 0.05 (95% interval) and I can not reject the \n",
    "# H0 hypothesis (the means are equal)"
   ]
  },
  {
   "cell_type": "code",
   "execution_count": 366,
   "metadata": {},
   "outputs": [
    {
     "name": "stdout",
     "output_type": "stream",
     "text": [
      "t statitics = 3.8227858345722914 \n",
      "p-value = 0.00014029500393877986\n"
     ]
    }
   ],
   "source": [
    "# t test between 2015 and 2019\n",
    "sample_2015 = np.array(ds_no_zeros_2015.sample(n = 500, random_state=156))\n",
    "sample_2019 = np.array(ds_no_zeros_2019.sample(n = 500, random_state=156))\n",
    "\n",
    "t_stats, p_value = stats.ttest_ind(sample_2015, sample_2019, equal_var=False)\n",
    "print('t statitics =', t_stats, '\\np-value =', p_value)"
   ]
  },
  {
   "cell_type": "code",
   "execution_count": 28,
   "metadata": {},
   "outputs": [],
   "source": [
    "# CONCLUSION: the P value is lower than 0.05 (95% interval) then you can reject the \n",
    "# H0 hypothesis and accept H1 (the means are different)"
   ]
  },
  {
   "cell_type": "code",
   "execution_count": null,
   "metadata": {},
   "outputs": [],
   "source": []
  },
  {
   "cell_type": "code",
   "execution_count": null,
   "metadata": {},
   "outputs": [],
   "source": []
  },
  {
   "cell_type": "code",
   "execution_count": null,
   "metadata": {},
   "outputs": [],
   "source": []
  }
 ],
 "metadata": {
  "kernelspec": {
   "display_name": "Python 3",
   "language": "python",
   "name": "python3"
  },
  "language_info": {
   "codemirror_mode": {
    "name": "ipython",
    "version": 3
   },
   "file_extension": ".py",
   "mimetype": "text/x-python",
   "name": "python",
   "nbconvert_exporter": "python",
   "pygments_lexer": "ipython3",
   "version": "3.7.4"
  }
 },
 "nbformat": 4,
 "nbformat_minor": 2
}
