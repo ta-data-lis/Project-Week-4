{
 "metadata": {
  "language_info": {
   "codemirror_mode": {
    "name": "ipython",
    "version": 3
   },
   "file_extension": ".py",
   "mimetype": "text/x-python",
   "name": "python",
   "nbconvert_exporter": "python",
   "pygments_lexer": "ipython3",
   "version": "3.8.3-final"
  },
  "orig_nbformat": 2,
  "kernelspec": {
   "name": "python3",
   "display_name": "Python 3"
  }
 },
 "nbformat": 4,
 "nbformat_minor": 2,
 "cells": [
  {
   "cell_type": "code",
   "execution_count": 2,
   "metadata": {},
   "outputs": [],
   "source": [
    "import pandas as pd\n",
    "import numpy as np"
   ]
  },
  {
   "cell_type": "code",
   "execution_count": 3,
   "metadata": {},
   "outputs": [
    {
     "output_type": "execute_result",
     "data": {
      "text/plain": [
       "        Carimbo de data/hora Do you follow any travel Instagram?  \\\n",
       "0  2020/11/16 3:36:24 PM GMT                                 Yes   \n",
       "1  2020/11/16 3:36:40 PM GMT                                 Yes   \n",
       "2  2020/11/16 3:39:10 PM GMT                                 Yes   \n",
       "3  2020/11/16 3:40:55 PM GMT                                  No   \n",
       "4  2020/11/16 3:42:27 PM GMT                                  No   \n",
       "\n",
       "  Do you follow any travel-related hashtag?  \\\n",
       "0                                        No   \n",
       "1                                        No   \n",
       "2                                        No   \n",
       "3                                        No   \n",
       "4                                        No   \n",
       "\n",
       "  Do you prefer to see photos with people or just places?  \\\n",
       "0                                             Places        \n",
       "1                                             People        \n",
       "2                                             People        \n",
       "3                                                NaN        \n",
       "4                                                NaN        \n",
       "\n",
       "  Is the description of the photo important to you?  \\\n",
       "0                                                No   \n",
       "1                                                No   \n",
       "2                                                No   \n",
       "3                                               NaN   \n",
       "4                                               NaN   \n",
       "\n",
       "  Do you prefer culture, nature, or food posts?  \\\n",
       "0    nature for example beaches, waterfalls etc   \n",
       "1              cultural eg museums, statues etc   \n",
       "2    nature for example beaches, waterfalls etc   \n",
       "3                                           NaN   \n",
       "4                                           NaN   \n",
       "\n",
       "   Do you usually comment when you like the photo?  \n",
       "0                                              1.0  \n",
       "1                                              1.0  \n",
       "2                                              2.0  \n",
       "3                                              NaN  \n",
       "4                                              NaN  "
      ],
      "text/html": "<div>\n<style scoped>\n    .dataframe tbody tr th:only-of-type {\n        vertical-align: middle;\n    }\n\n    .dataframe tbody tr th {\n        vertical-align: top;\n    }\n\n    .dataframe thead th {\n        text-align: right;\n    }\n</style>\n<table border=\"1\" class=\"dataframe\">\n  <thead>\n    <tr style=\"text-align: right;\">\n      <th></th>\n      <th>Carimbo de data/hora</th>\n      <th>Do you follow any travel Instagram?</th>\n      <th>Do you follow any travel-related hashtag?</th>\n      <th>Do you prefer to see photos with people or just places?</th>\n      <th>Is the description of the photo important to you?</th>\n      <th>Do you prefer culture, nature, or food posts?</th>\n      <th>Do you usually comment when you like the photo?</th>\n    </tr>\n  </thead>\n  <tbody>\n    <tr>\n      <th>0</th>\n      <td>2020/11/16 3:36:24 PM GMT</td>\n      <td>Yes</td>\n      <td>No</td>\n      <td>Places</td>\n      <td>No</td>\n      <td>nature for example beaches, waterfalls etc</td>\n      <td>1.0</td>\n    </tr>\n    <tr>\n      <th>1</th>\n      <td>2020/11/16 3:36:40 PM GMT</td>\n      <td>Yes</td>\n      <td>No</td>\n      <td>People</td>\n      <td>No</td>\n      <td>cultural eg museums, statues etc</td>\n      <td>1.0</td>\n    </tr>\n    <tr>\n      <th>2</th>\n      <td>2020/11/16 3:39:10 PM GMT</td>\n      <td>Yes</td>\n      <td>No</td>\n      <td>People</td>\n      <td>No</td>\n      <td>nature for example beaches, waterfalls etc</td>\n      <td>2.0</td>\n    </tr>\n    <tr>\n      <th>3</th>\n      <td>2020/11/16 3:40:55 PM GMT</td>\n      <td>No</td>\n      <td>No</td>\n      <td>NaN</td>\n      <td>NaN</td>\n      <td>NaN</td>\n      <td>NaN</td>\n    </tr>\n    <tr>\n      <th>4</th>\n      <td>2020/11/16 3:42:27 PM GMT</td>\n      <td>No</td>\n      <td>No</td>\n      <td>NaN</td>\n      <td>NaN</td>\n      <td>NaN</td>\n      <td>NaN</td>\n    </tr>\n  </tbody>\n</table>\n</div>"
     },
     "metadata": {},
     "execution_count": 3
    }
   ],
   "source": [
    "survey = pd.read_csv('C:\\cygwin\\home\\Cinthya\\Ironhack_bootcamp\\Project-Week-6\\your-project\\Survey_TravelPhotosStudy.csv')\n",
    "survey.drop(['Unnamed: 7','Unnamed: 8'],axis=1,inplace=True)\n",
    "survey.head()"
   ]
  },
  {
   "cell_type": "code",
   "execution_count": 4,
   "metadata": {},
   "outputs": [
    {
     "output_type": "execute_result",
     "data": {
      "text/plain": [
       "Index(['Carimbo de data/hora', 'Do you follow any travel Instagram?',\n",
       "       'Do you follow any travel-related hashtag?',\n",
       "       'Do you prefer to see photos with people or just places?',\n",
       "       'Is the description of the photo important to you?',\n",
       "       'Do you prefer culture, nature, or food posts?',\n",
       "       'Do you usually comment when you like the photo?'],\n",
       "      dtype='object')"
      ]
     },
     "metadata": {},
     "execution_count": 4
    }
   ],
   "source": [
    "survey.columns"
   ]
  },
  {
   "cell_type": "code",
   "execution_count": 5,
   "metadata": {},
   "outputs": [
    {
     "output_type": "execute_result",
     "data": {
      "text/plain": [
       "        Carimbo de data/hora Follow Profile Follow Hashtag People or Place  \\\n",
       "0  2020/11/16 3:36:24 PM GMT            Yes             No          Places   \n",
       "1  2020/11/16 3:36:40 PM GMT            Yes             No          People   \n",
       "2  2020/11/16 3:39:10 PM GMT            Yes             No          People   \n",
       "3  2020/11/16 3:40:55 PM GMT             No             No             NaN   \n",
       "4  2020/11/16 3:42:27 PM GMT             No             No             NaN   \n",
       "5  2020/11/16 3:55:11 PM GMT            Yes            Yes          Places   \n",
       "6  2020/11/16 3:55:27 PM GMT             No             No             NaN   \n",
       "7  2020/11/16 4:09:03 PM GMT            Yes            Yes          Places   \n",
       "8  2020/11/16 4:16:30 PM GMT            Yes            Yes          Places   \n",
       "9  2020/11/16 4:32:19 PM GMT            Yes             No          Places   \n",
       "\n",
       "  Caption important?                     Culture, Nature or Food  Comment Freq  \n",
       "0                 No  nature for example beaches, waterfalls etc           1.0  \n",
       "1                 No            cultural eg museums, statues etc           1.0  \n",
       "2                 No  nature for example beaches, waterfalls etc           2.0  \n",
       "3                NaN                                         NaN           NaN  \n",
       "4                NaN                                         NaN           NaN  \n",
       "5                Yes  nature for example beaches, waterfalls etc           1.0  \n",
       "6                NaN                                         NaN           NaN  \n",
       "7                 No  nature for example beaches, waterfalls etc           1.0  \n",
       "8                Yes            cultural eg museums, statues etc           4.0  \n",
       "9                 No  nature for example beaches, waterfalls etc           1.0  "
      ],
      "text/html": "<div>\n<style scoped>\n    .dataframe tbody tr th:only-of-type {\n        vertical-align: middle;\n    }\n\n    .dataframe tbody tr th {\n        vertical-align: top;\n    }\n\n    .dataframe thead th {\n        text-align: right;\n    }\n</style>\n<table border=\"1\" class=\"dataframe\">\n  <thead>\n    <tr style=\"text-align: right;\">\n      <th></th>\n      <th>Carimbo de data/hora</th>\n      <th>Follow Profile</th>\n      <th>Follow Hashtag</th>\n      <th>People or Place</th>\n      <th>Caption important?</th>\n      <th>Culture, Nature or Food</th>\n      <th>Comment Freq</th>\n    </tr>\n  </thead>\n  <tbody>\n    <tr>\n      <th>0</th>\n      <td>2020/11/16 3:36:24 PM GMT</td>\n      <td>Yes</td>\n      <td>No</td>\n      <td>Places</td>\n      <td>No</td>\n      <td>nature for example beaches, waterfalls etc</td>\n      <td>1.0</td>\n    </tr>\n    <tr>\n      <th>1</th>\n      <td>2020/11/16 3:36:40 PM GMT</td>\n      <td>Yes</td>\n      <td>No</td>\n      <td>People</td>\n      <td>No</td>\n      <td>cultural eg museums, statues etc</td>\n      <td>1.0</td>\n    </tr>\n    <tr>\n      <th>2</th>\n      <td>2020/11/16 3:39:10 PM GMT</td>\n      <td>Yes</td>\n      <td>No</td>\n      <td>People</td>\n      <td>No</td>\n      <td>nature for example beaches, waterfalls etc</td>\n      <td>2.0</td>\n    </tr>\n    <tr>\n      <th>3</th>\n      <td>2020/11/16 3:40:55 PM GMT</td>\n      <td>No</td>\n      <td>No</td>\n      <td>NaN</td>\n      <td>NaN</td>\n      <td>NaN</td>\n      <td>NaN</td>\n    </tr>\n    <tr>\n      <th>4</th>\n      <td>2020/11/16 3:42:27 PM GMT</td>\n      <td>No</td>\n      <td>No</td>\n      <td>NaN</td>\n      <td>NaN</td>\n      <td>NaN</td>\n      <td>NaN</td>\n    </tr>\n    <tr>\n      <th>5</th>\n      <td>2020/11/16 3:55:11 PM GMT</td>\n      <td>Yes</td>\n      <td>Yes</td>\n      <td>Places</td>\n      <td>Yes</td>\n      <td>nature for example beaches, waterfalls etc</td>\n      <td>1.0</td>\n    </tr>\n    <tr>\n      <th>6</th>\n      <td>2020/11/16 3:55:27 PM GMT</td>\n      <td>No</td>\n      <td>No</td>\n      <td>NaN</td>\n      <td>NaN</td>\n      <td>NaN</td>\n      <td>NaN</td>\n    </tr>\n    <tr>\n      <th>7</th>\n      <td>2020/11/16 4:09:03 PM GMT</td>\n      <td>Yes</td>\n      <td>Yes</td>\n      <td>Places</td>\n      <td>No</td>\n      <td>nature for example beaches, waterfalls etc</td>\n      <td>1.0</td>\n    </tr>\n    <tr>\n      <th>8</th>\n      <td>2020/11/16 4:16:30 PM GMT</td>\n      <td>Yes</td>\n      <td>Yes</td>\n      <td>Places</td>\n      <td>Yes</td>\n      <td>cultural eg museums, statues etc</td>\n      <td>4.0</td>\n    </tr>\n    <tr>\n      <th>9</th>\n      <td>2020/11/16 4:32:19 PM GMT</td>\n      <td>Yes</td>\n      <td>No</td>\n      <td>Places</td>\n      <td>No</td>\n      <td>nature for example beaches, waterfalls etc</td>\n      <td>1.0</td>\n    </tr>\n  </tbody>\n</table>\n</div>"
     },
     "metadata": {},
     "execution_count": 5
    }
   ],
   "source": [
    "survey.rename(columns={'Do you follow any travel Instagram?':'Follow Profile',\n",
    "                        'Do you follow any travel-related hashtag?':'Follow Hashtag',\n",
    "                        'Do you prefer to see photos with people or just places?':'People or Place',\n",
    "                        'Is the description of the photo important to you?':'Caption important?',\n",
    "                        'Do you prefer culture, nature, or food posts?':'Culture, Nature or Food',\n",
    "                        'Do you usually comment when you like the photo?':'Comment Freq'},inplace=True)\n",
    "survey.head(10)"
   ]
  },
  {
   "cell_type": "code",
   "execution_count": 6,
   "metadata": {},
   "outputs": [],
   "source": [
    "import matplotlib.pyplot as plt"
   ]
  },
  {
   "cell_type": "code",
   "execution_count": 7,
   "metadata": {},
   "outputs": [
    {
     "output_type": "execute_result",
     "data": {
      "text/plain": [
       "44"
      ]
     },
     "metadata": {},
     "execution_count": 7
    }
   ],
   "source": [
    "len(survey)"
   ]
  },
  {
   "cell_type": "code",
   "execution_count": 8,
   "metadata": {},
   "outputs": [],
   "source": [
    "general_pop = survey[['Follow Profile', 'Follow Hashtag']]"
   ]
  },
  {
   "cell_type": "code",
   "execution_count": null,
   "metadata": {},
   "outputs": [],
   "source": [
    "general_pop.to_excel('survey_pop.xlsx')"
   ]
  },
  {
   "cell_type": "code",
   "execution_count": 6,
   "metadata": {},
   "outputs": [
    {
     "output_type": "execute_result",
     "data": {
      "text/plain": [
       "   Follow Profile  Follow Hashtag\n",
       "0               1               0\n",
       "1               1               0\n",
       "2               1               0\n",
       "3               0               0\n",
       "4               0               0"
      ],
      "text/html": "<div>\n<style scoped>\n    .dataframe tbody tr th:only-of-type {\n        vertical-align: middle;\n    }\n\n    .dataframe tbody tr th {\n        vertical-align: top;\n    }\n\n    .dataframe thead th {\n        text-align: right;\n    }\n</style>\n<table border=\"1\" class=\"dataframe\">\n  <thead>\n    <tr style=\"text-align: right;\">\n      <th></th>\n      <th>Follow Profile</th>\n      <th>Follow Hashtag</th>\n    </tr>\n  </thead>\n  <tbody>\n    <tr>\n      <th>0</th>\n      <td>1</td>\n      <td>0</td>\n    </tr>\n    <tr>\n      <th>1</th>\n      <td>1</td>\n      <td>0</td>\n    </tr>\n    <tr>\n      <th>2</th>\n      <td>1</td>\n      <td>0</td>\n    </tr>\n    <tr>\n      <th>3</th>\n      <td>0</td>\n      <td>0</td>\n    </tr>\n    <tr>\n      <th>4</th>\n      <td>0</td>\n      <td>0</td>\n    </tr>\n  </tbody>\n</table>\n</div>"
     },
     "metadata": {},
     "execution_count": 6
    }
   ],
   "source": [
    "general_pop['Follow Profile'] = general_pop['Follow Profile'].apply(lambda x: 1 if x=='Yes' else 0)\n",
    "general_pop['Follow Hashtag'] = general_pop['Follow Hashtag'].apply(lambda x: 1 if x=='Yes' else 0)\n",
    "\n",
    "general_pop.head()"
   ]
  },
  {
   "cell_type": "code",
   "execution_count": 11,
   "metadata": {},
   "outputs": [
    {
     "output_type": "execute_result",
     "data": {
      "text/plain": [
       "(5.222422796279005,\n",
       " 0.022297464716215597,\n",
       " 1,\n",
       " array([[13.52272727,  3.47727273],\n",
       "        [21.47727273,  5.52272727]]))"
      ]
     },
     "metadata": {},
     "execution_count": 11
    }
   ],
   "source": [
    "table = pd.crosstab(general_pop['Follow Profile'],general_pop['Follow Hashtag'])\n",
    "\n",
    "from scipy.stats import chi2_contingency\n",
    "# Chi-square test of independence.\n",
    "chi2_contingency(table)"
   ]
  },
  {
   "cell_type": "code",
   "execution_count": 170,
   "metadata": {},
   "outputs": [],
   "source": [
    "import scipy.stats as st"
   ]
  },
  {
   "source": [
    "### Follow Profile Column"
   ],
   "cell_type": "markdown",
   "metadata": {}
  },
  {
   "cell_type": "code",
   "execution_count": 171,
   "metadata": {},
   "outputs": [
    {
     "output_type": "execute_result",
     "data": {
      "text/plain": [
       "(0.4638890446167189, 0.7633836826560083)"
      ]
     },
     "metadata": {},
     "execution_count": 171
    }
   ],
   "source": [
    "mean = general_pop['Follow Profile'].mean()\n",
    "sigma = general_pop['Follow Profile'].std(ddof=1)\n",
    "n = survey.shape[0]\n",
    "st.t.interval(0.95,n-1, loc=mean, scale=sigma/np.sqrt(n))"
   ]
  },
  {
   "source": [
    "### Follow Hashtag Column"
   ],
   "cell_type": "markdown",
   "metadata": {}
  },
  {
   "cell_type": "code",
   "execution_count": 172,
   "metadata": {},
   "outputs": [
    {
     "output_type": "execute_result",
     "data": {
      "text/plain": [
       "(0.0804922492952757, 0.3285986597956334)"
      ]
     },
     "metadata": {},
     "execution_count": 172
    }
   ],
   "source": [
    "mean = general_pop['Follow Hashtag'].mean()\n",
    "sigma = general_pop['Follow Hashtag'].std(ddof=1)\n",
    "n = survey.shape[0]\n",
    "st.t.interval(0.95,n-1, loc=mean, scale=sigma/np.sqrt(n))"
   ]
  },
  {
   "cell_type": "code",
   "execution_count": 200,
   "metadata": {},
   "outputs": [],
   "source": []
  },
  {
   "source": [
    "## Surveys positive"
   ],
   "cell_type": "markdown",
   "metadata": {}
  },
  {
   "cell_type": "code",
   "execution_count": 195,
   "metadata": {},
   "outputs": [
    {
     "output_type": "execute_result",
     "data": {
      "text/plain": [
       "27"
      ]
     },
     "metadata": {},
     "execution_count": 195
    }
   ],
   "source": [
    "survey_pos = survey[['Carimbo de data/hora','Caption important?', 'Culture, Nature or Food',\n",
    "       'Comment Freq']]\n",
    "survey_pos = survey.dropna(axis=0).reset_index()\n",
    "survey_pos.shape[0]"
   ]
  },
  {
   "cell_type": "code",
   "execution_count": 196,
   "metadata": {},
   "outputs": [
    {
     "output_type": "execute_result",
     "data": {
      "text/plain": [
       "   index       Carimbo de data/hora Follow Profile Follow Hashtag  \\\n",
       "0      0  2020/11/16 3:36:24 PM GMT            Yes             No   \n",
       "1      1  2020/11/16 3:36:40 PM GMT            Yes             No   \n",
       "2      2  2020/11/16 3:39:10 PM GMT            Yes             No   \n",
       "3      5  2020/11/16 3:55:11 PM GMT            Yes            Yes   \n",
       "4      7  2020/11/16 4:09:03 PM GMT            Yes            Yes   \n",
       "5      8  2020/11/16 4:16:30 PM GMT            Yes            Yes   \n",
       "6      9  2020/11/16 4:32:19 PM GMT            Yes             No   \n",
       "7     11  2020/11/16 5:40:26 PM GMT            Yes             No   \n",
       "8     12  2020/11/16 5:42:24 PM GMT            Yes             No   \n",
       "9     13  2020/11/16 6:00:55 PM GMT            Yes             No   \n",
       "\n",
       "  People or Place Caption important?  \\\n",
       "0          Places                 No   \n",
       "1          People                 No   \n",
       "2          People                 No   \n",
       "3          Places                Yes   \n",
       "4          Places                 No   \n",
       "5          Places                Yes   \n",
       "6          Places                 No   \n",
       "7          People                Yes   \n",
       "8          Places                 No   \n",
       "9          People                 No   \n",
       "\n",
       "                      Culture, Nature or Food  Comment Freq  \n",
       "0  nature for example beaches, waterfalls etc           1.0  \n",
       "1            cultural eg museums, statues etc           1.0  \n",
       "2  nature for example beaches, waterfalls etc           2.0  \n",
       "3  nature for example beaches, waterfalls etc           1.0  \n",
       "4  nature for example beaches, waterfalls etc           1.0  \n",
       "5            cultural eg museums, statues etc           4.0  \n",
       "6  nature for example beaches, waterfalls etc           1.0  \n",
       "7  nature for example beaches, waterfalls etc           1.0  \n",
       "8  nature for example beaches, waterfalls etc           2.0  \n",
       "9  nature for example beaches, waterfalls etc           1.0  "
      ],
      "text/html": "<div>\n<style scoped>\n    .dataframe tbody tr th:only-of-type {\n        vertical-align: middle;\n    }\n\n    .dataframe tbody tr th {\n        vertical-align: top;\n    }\n\n    .dataframe thead th {\n        text-align: right;\n    }\n</style>\n<table border=\"1\" class=\"dataframe\">\n  <thead>\n    <tr style=\"text-align: right;\">\n      <th></th>\n      <th>index</th>\n      <th>Carimbo de data/hora</th>\n      <th>Follow Profile</th>\n      <th>Follow Hashtag</th>\n      <th>People or Place</th>\n      <th>Caption important?</th>\n      <th>Culture, Nature or Food</th>\n      <th>Comment Freq</th>\n    </tr>\n  </thead>\n  <tbody>\n    <tr>\n      <th>0</th>\n      <td>0</td>\n      <td>2020/11/16 3:36:24 PM GMT</td>\n      <td>Yes</td>\n      <td>No</td>\n      <td>Places</td>\n      <td>No</td>\n      <td>nature for example beaches, waterfalls etc</td>\n      <td>1.0</td>\n    </tr>\n    <tr>\n      <th>1</th>\n      <td>1</td>\n      <td>2020/11/16 3:36:40 PM GMT</td>\n      <td>Yes</td>\n      <td>No</td>\n      <td>People</td>\n      <td>No</td>\n      <td>cultural eg museums, statues etc</td>\n      <td>1.0</td>\n    </tr>\n    <tr>\n      <th>2</th>\n      <td>2</td>\n      <td>2020/11/16 3:39:10 PM GMT</td>\n      <td>Yes</td>\n      <td>No</td>\n      <td>People</td>\n      <td>No</td>\n      <td>nature for example beaches, waterfalls etc</td>\n      <td>2.0</td>\n    </tr>\n    <tr>\n      <th>3</th>\n      <td>5</td>\n      <td>2020/11/16 3:55:11 PM GMT</td>\n      <td>Yes</td>\n      <td>Yes</td>\n      <td>Places</td>\n      <td>Yes</td>\n      <td>nature for example beaches, waterfalls etc</td>\n      <td>1.0</td>\n    </tr>\n    <tr>\n      <th>4</th>\n      <td>7</td>\n      <td>2020/11/16 4:09:03 PM GMT</td>\n      <td>Yes</td>\n      <td>Yes</td>\n      <td>Places</td>\n      <td>No</td>\n      <td>nature for example beaches, waterfalls etc</td>\n      <td>1.0</td>\n    </tr>\n    <tr>\n      <th>5</th>\n      <td>8</td>\n      <td>2020/11/16 4:16:30 PM GMT</td>\n      <td>Yes</td>\n      <td>Yes</td>\n      <td>Places</td>\n      <td>Yes</td>\n      <td>cultural eg museums, statues etc</td>\n      <td>4.0</td>\n    </tr>\n    <tr>\n      <th>6</th>\n      <td>9</td>\n      <td>2020/11/16 4:32:19 PM GMT</td>\n      <td>Yes</td>\n      <td>No</td>\n      <td>Places</td>\n      <td>No</td>\n      <td>nature for example beaches, waterfalls etc</td>\n      <td>1.0</td>\n    </tr>\n    <tr>\n      <th>7</th>\n      <td>11</td>\n      <td>2020/11/16 5:40:26 PM GMT</td>\n      <td>Yes</td>\n      <td>No</td>\n      <td>People</td>\n      <td>Yes</td>\n      <td>nature for example beaches, waterfalls etc</td>\n      <td>1.0</td>\n    </tr>\n    <tr>\n      <th>8</th>\n      <td>12</td>\n      <td>2020/11/16 5:42:24 PM GMT</td>\n      <td>Yes</td>\n      <td>No</td>\n      <td>Places</td>\n      <td>No</td>\n      <td>nature for example beaches, waterfalls etc</td>\n      <td>2.0</td>\n    </tr>\n    <tr>\n      <th>9</th>\n      <td>13</td>\n      <td>2020/11/16 6:00:55 PM GMT</td>\n      <td>Yes</td>\n      <td>No</td>\n      <td>People</td>\n      <td>No</td>\n      <td>nature for example beaches, waterfalls etc</td>\n      <td>1.0</td>\n    </tr>\n  </tbody>\n</table>\n</div>"
     },
     "metadata": {},
     "execution_count": 196
    }
   ],
   "source": [
    "survey_pos.head(10)"
   ]
  },
  {
   "cell_type": "code",
   "execution_count": 175,
   "metadata": {},
   "outputs": [],
   "source": [
    "#survey_pos['Comment Freq'] = survey_pos.astype({'Comment Freq': 'int32'})"
   ]
  },
  {
   "source": [
    "### Follow Profile Column\n",
    "\n",
    "Yes == 1\n",
    "No == 0\n",
    "\n",
    "### Follow Hashtag Column\n",
    "\n",
    "Yes == 1\n",
    "No == 0\n",
    "\n",
    "### People or Place Column\n",
    "\n",
    "People == 1\n",
    "Place == 0\n",
    "\n",
    "\n",
    "### Caption important? Column\n",
    "\n",
    "Yes == 1\n",
    "No == 0"
   ],
   "cell_type": "markdown",
   "metadata": {}
  },
  {
   "cell_type": "code",
   "execution_count": 197,
   "metadata": {},
   "outputs": [],
   "source": [
    "survey_pos['Follow Profile'] = survey_pos['Follow Profile'].apply(lambda x: 1 if x=='Yes' else 0)\n",
    "survey_pos['Follow Hashtag'] = survey_pos['Follow Hashtag'].apply(lambda x: 1 if x=='Yes' else 0)\n",
    "survey_pos['People or Place'] = survey_pos['People or Place'].apply(lambda x: 1 if x=='People' else 0)\n",
    "survey_pos['Caption important?'] = survey_pos['Caption important?'].apply(lambda x: 1 if x=='Yes' else 0)"
   ]
  },
  {
   "cell_type": "code",
   "execution_count": 198,
   "metadata": {},
   "outputs": [
    {
     "output_type": "execute_result",
     "data": {
      "text/plain": [
       "   index       Carimbo de data/hora  Follow Profile  Follow Hashtag  \\\n",
       "0      0  2020/11/16 3:36:24 PM GMT               1               0   \n",
       "1      1  2020/11/16 3:36:40 PM GMT               1               0   \n",
       "2      2  2020/11/16 3:39:10 PM GMT               1               0   \n",
       "3      5  2020/11/16 3:55:11 PM GMT               1               1   \n",
       "4      7  2020/11/16 4:09:03 PM GMT               1               1   \n",
       "5      8  2020/11/16 4:16:30 PM GMT               1               1   \n",
       "6      9  2020/11/16 4:32:19 PM GMT               1               0   \n",
       "7     11  2020/11/16 5:40:26 PM GMT               1               0   \n",
       "8     12  2020/11/16 5:42:24 PM GMT               1               0   \n",
       "9     13  2020/11/16 6:00:55 PM GMT               1               0   \n",
       "\n",
       "   People or Place  Caption important?  \\\n",
       "0                0                   0   \n",
       "1                1                   0   \n",
       "2                1                   0   \n",
       "3                0                   1   \n",
       "4                0                   0   \n",
       "5                0                   1   \n",
       "6                0                   0   \n",
       "7                1                   1   \n",
       "8                0                   0   \n",
       "9                1                   0   \n",
       "\n",
       "                      Culture, Nature or Food  Comment Freq  \n",
       "0  nature for example beaches, waterfalls etc           1.0  \n",
       "1            cultural eg museums, statues etc           1.0  \n",
       "2  nature for example beaches, waterfalls etc           2.0  \n",
       "3  nature for example beaches, waterfalls etc           1.0  \n",
       "4  nature for example beaches, waterfalls etc           1.0  \n",
       "5            cultural eg museums, statues etc           4.0  \n",
       "6  nature for example beaches, waterfalls etc           1.0  \n",
       "7  nature for example beaches, waterfalls etc           1.0  \n",
       "8  nature for example beaches, waterfalls etc           2.0  \n",
       "9  nature for example beaches, waterfalls etc           1.0  "
      ],
      "text/html": "<div>\n<style scoped>\n    .dataframe tbody tr th:only-of-type {\n        vertical-align: middle;\n    }\n\n    .dataframe tbody tr th {\n        vertical-align: top;\n    }\n\n    .dataframe thead th {\n        text-align: right;\n    }\n</style>\n<table border=\"1\" class=\"dataframe\">\n  <thead>\n    <tr style=\"text-align: right;\">\n      <th></th>\n      <th>index</th>\n      <th>Carimbo de data/hora</th>\n      <th>Follow Profile</th>\n      <th>Follow Hashtag</th>\n      <th>People or Place</th>\n      <th>Caption important?</th>\n      <th>Culture, Nature or Food</th>\n      <th>Comment Freq</th>\n    </tr>\n  </thead>\n  <tbody>\n    <tr>\n      <th>0</th>\n      <td>0</td>\n      <td>2020/11/16 3:36:24 PM GMT</td>\n      <td>1</td>\n      <td>0</td>\n      <td>0</td>\n      <td>0</td>\n      <td>nature for example beaches, waterfalls etc</td>\n      <td>1.0</td>\n    </tr>\n    <tr>\n      <th>1</th>\n      <td>1</td>\n      <td>2020/11/16 3:36:40 PM GMT</td>\n      <td>1</td>\n      <td>0</td>\n      <td>1</td>\n      <td>0</td>\n      <td>cultural eg museums, statues etc</td>\n      <td>1.0</td>\n    </tr>\n    <tr>\n      <th>2</th>\n      <td>2</td>\n      <td>2020/11/16 3:39:10 PM GMT</td>\n      <td>1</td>\n      <td>0</td>\n      <td>1</td>\n      <td>0</td>\n      <td>nature for example beaches, waterfalls etc</td>\n      <td>2.0</td>\n    </tr>\n    <tr>\n      <th>3</th>\n      <td>5</td>\n      <td>2020/11/16 3:55:11 PM GMT</td>\n      <td>1</td>\n      <td>1</td>\n      <td>0</td>\n      <td>1</td>\n      <td>nature for example beaches, waterfalls etc</td>\n      <td>1.0</td>\n    </tr>\n    <tr>\n      <th>4</th>\n      <td>7</td>\n      <td>2020/11/16 4:09:03 PM GMT</td>\n      <td>1</td>\n      <td>1</td>\n      <td>0</td>\n      <td>0</td>\n      <td>nature for example beaches, waterfalls etc</td>\n      <td>1.0</td>\n    </tr>\n    <tr>\n      <th>5</th>\n      <td>8</td>\n      <td>2020/11/16 4:16:30 PM GMT</td>\n      <td>1</td>\n      <td>1</td>\n      <td>0</td>\n      <td>1</td>\n      <td>cultural eg museums, statues etc</td>\n      <td>4.0</td>\n    </tr>\n    <tr>\n      <th>6</th>\n      <td>9</td>\n      <td>2020/11/16 4:32:19 PM GMT</td>\n      <td>1</td>\n      <td>0</td>\n      <td>0</td>\n      <td>0</td>\n      <td>nature for example beaches, waterfalls etc</td>\n      <td>1.0</td>\n    </tr>\n    <tr>\n      <th>7</th>\n      <td>11</td>\n      <td>2020/11/16 5:40:26 PM GMT</td>\n      <td>1</td>\n      <td>0</td>\n      <td>1</td>\n      <td>1</td>\n      <td>nature for example beaches, waterfalls etc</td>\n      <td>1.0</td>\n    </tr>\n    <tr>\n      <th>8</th>\n      <td>12</td>\n      <td>2020/11/16 5:42:24 PM GMT</td>\n      <td>1</td>\n      <td>0</td>\n      <td>0</td>\n      <td>0</td>\n      <td>nature for example beaches, waterfalls etc</td>\n      <td>2.0</td>\n    </tr>\n    <tr>\n      <th>9</th>\n      <td>13</td>\n      <td>2020/11/16 6:00:55 PM GMT</td>\n      <td>1</td>\n      <td>0</td>\n      <td>1</td>\n      <td>0</td>\n      <td>nature for example beaches, waterfalls etc</td>\n      <td>1.0</td>\n    </tr>\n  </tbody>\n</table>\n</div>"
     },
     "metadata": {},
     "execution_count": 198
    }
   ],
   "source": [
    "survey_pos.head(10)"
   ]
  },
  {
   "cell_type": "code",
   "execution_count": 199,
   "metadata": {},
   "outputs": [],
   "source": [
    "survey_pos.to_excel('survey_clean.xlsx')"
   ]
  },
  {
   "cell_type": "code",
   "execution_count": null,
   "metadata": {},
   "outputs": [],
   "source": []
  }
 ]
}