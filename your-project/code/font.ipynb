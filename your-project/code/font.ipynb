{
 "cells": [
  {
   "cell_type": "code",
   "execution_count": 1,
   "metadata": {},
   "outputs": [
    {
     "name": "stdout",
     "output_type": "stream",
     "text": [
      "/Library/Frameworks/Python.framework/Versions/3.6/lib/python3.6/site-packages/matplotlib/mpl-data/fonts/ttf/DejaVuSansMono-Bold.ttf DejaVu Sans Mono\n",
      "/Library/Frameworks/Python.framework/Versions/3.6/lib/python3.6/site-packages/matplotlib/mpl-data/fonts/ttf/DejaVuSerif-Bold.ttf DejaVu Serif\n",
      "/Library/Frameworks/Python.framework/Versions/3.6/lib/python3.6/site-packages/matplotlib/mpl-data/fonts/ttf/DejaVuSerif.ttf DejaVu Serif\n",
      "/Library/Frameworks/Python.framework/Versions/3.6/lib/python3.6/site-packages/matplotlib/mpl-data/fonts/ttf/DejaVuSerif-BoldItalic.ttf DejaVu Serif\n",
      "/Library/Frameworks/Python.framework/Versions/3.6/lib/python3.6/site-packages/matplotlib/mpl-data/fonts/ttf/DejaVuSansMono-Oblique.ttf DejaVu Sans Mono\n",
      "/Library/Frameworks/Python.framework/Versions/3.6/lib/python3.6/site-packages/matplotlib/mpl-data/fonts/ttf/DejaVuSansMono.ttf DejaVu Sans Mono\n",
      "/Library/Frameworks/Python.framework/Versions/3.6/lib/python3.6/site-packages/matplotlib/mpl-data/fonts/ttf/DejaVuSans-Bold.ttf DejaVu Sans\n",
      "/Library/Frameworks/Python.framework/Versions/3.6/lib/python3.6/site-packages/matplotlib/mpl-data/fonts/ttf/DejaVuSans-BoldOblique.ttf DejaVu Sans\n",
      "/Library/Frameworks/Python.framework/Versions/3.6/lib/python3.6/site-packages/matplotlib/mpl-data/fonts/ttf/DejaVuSerif-Italic.ttf DejaVu Serif\n",
      "/Library/Frameworks/Python.framework/Versions/3.6/lib/python3.6/site-packages/matplotlib/mpl-data/fonts/ttf/DejaVuSans.ttf DejaVu Sans\n",
      "/Library/Frameworks/Python.framework/Versions/3.6/lib/python3.6/site-packages/matplotlib/mpl-data/fonts/ttf/DejaVuSansMono-BoldOblique.ttf DejaVu Sans Mono\n",
      "/Library/Frameworks/Python.framework/Versions/3.6/lib/python3.6/site-packages/matplotlib/mpl-data/fonts/ttf/STIXGeneralBol.ttf STIXGeneral\n",
      "/Library/Frameworks/Python.framework/Versions/3.6/lib/python3.6/site-packages/matplotlib/mpl-data/fonts/ttf/STIXGeneral.ttf STIXGeneral\n",
      "/Library/Frameworks/Python.framework/Versions/3.6/lib/python3.6/site-packages/matplotlib/mpl-data/fonts/ttf/DejaVuSans-Oblique.ttf DejaVu Sans\n",
      "/Library/Fonts/AdobeSongStd-Light.otf Adobe Song Std\n",
      "/System/Library/Fonts/SFCompactDisplay-Semibold.otf .SF Compact Display\n",
      "/Library/Fonts/KozMinPr6N-Regular.otf Kozuka Mincho Pr6N\n",
      "/System/Library/Assets/com_apple_MobileAsset_Font4/c1eaff3ada787e1beb4a74fedfcc40df66cba7e0.asset/AssetData/STFANGSO.ttf STFangsong\n",
      "/Library/Fonts/KozGoPr6N-Regular.otf Kozuka Gothic Pr6N\n",
      "/Library/Fonts/Microsoft/Calibri.ttf Calibri\n",
      "/Library/Fonts/AdobeHeitiStd-Regular.otf Adobe Heiti Std\n",
      "/Library/Fonts/AdobeKaitiStd-Regular.otf Adobe Kaiti Std\n",
      "/Library/Fonts/Microsoft/Cambria Math.ttf Cambria Math\n",
      "/Library/Fonts/KozGoPro-ExtraLight.otf Kozuka Gothic Pro\n",
      "/Library/Fonts/KozMinPro-Regular.otf Kozuka Mincho Pro\n",
      "/Library/Fonts/Microsoft/MS PGothic.ttf MS PGothic\n",
      "/System/Library/Fonts/SFCompactDisplay-Black.otf .SF Compact Display\n",
      "/Library/Fonts/KozGoPr6N-ExtraLight.otf Kozuka Gothic Pr6N\n",
      "/System/Library/Fonts/SFCompactText-Semibold.otf .SF Compact Text\n",
      "/Library/Fonts/STIXGeneral.otf STIXGeneral\n",
      "/Library/Fonts/KozMinPro-Heavy.otf Kozuka Mincho Pro\n",
      "/System/Library/Fonts/PingFang.ttc PingFang HK\n",
      "/Library/Fonts/KozMinPro-Light.otf Kozuka Mincho Pro\n",
      "/Library/Fonts/AppleGothic.ttf AppleGothic\n",
      "/Library/Fonts/Microsoft/MS Gothic.ttf MS Gothic\n",
      "/System/Library/Assets/com_apple_MobileAsset_Font4/8d69c72f04dcc2dfc086aa401dbab7f8ec55d0bb.asset/AssetData/Kaiti.ttc Kaiti SC\n",
      "/Library/Fonts/Microsoft/MS PMincho.ttf MS PMincho\n",
      "/System/Library/Fonts/SFCompactDisplay-Thin.otf .SF Compact Display\n",
      "/Library/Fonts/KozMinPr6N-Bold.otf Kozuka Mincho Pr6N\n",
      "/System/Library/Fonts/Hiragino Sans GB.ttc Hiragino Sans GB\n",
      "/System/Library/Fonts/STHeiti Medium.ttc Heiti TC\n",
      "/Library/Fonts/Microsoft/MingLiU.ttf MingLiU\n",
      "/System/Library/Fonts/SFCompactRounded-Light.otf .SF Compact Rounded\n",
      "/System/Library/Fonts/ヒラギノ角ゴシック W5.ttc Hiragino Sans\n",
      "/Library/Fonts/Microsoft/mingliu_hkscs.ttf MingLiU_HKSCS\n",
      "/Library/Fonts/KozGoPro-Regular.otf Kozuka Gothic Pro\n",
      "/System/Library/Fonts/SFCompactText-Light.otf .SF Compact Text\n",
      "/Library/Fonts/AdobeFangsongStd-Regular.otf Adobe Fangsong Std\n",
      "/Library/Fonts/KozGoPro-Heavy.otf Kozuka Gothic Pro\n",
      "/System/Library/Fonts/SFCompactRounded-Semibold.otf .SF Compact Rounded\n",
      "/Library/Fonts/AdobeMyungjoStd-Medium.otf Adobe Myungjo Std\n",
      "/Library/Fonts/KozGoPro-Bold.otf Kozuka Gothic Pro\n",
      "/System/Library/Fonts/LastResort.otf .LastResort\n",
      "/System/Library/Fonts/SFCompactRounded-Thin.otf .SF Compact Rounded\n",
      "/System/Library/Fonts/Apple Symbols.ttf Apple Symbols\n",
      "/System/Library/Fonts/ヒラギノ角ゴシック W2.ttc Hiragino Sans\n",
      "/System/Library/Fonts/SFCompactRounded-Ultralight.otf .SF Compact Rounded\n",
      "/Library/Fonts/KozMinPr6N-ExtraLight.otf Kozuka Mincho Pr6N\n",
      "/System/Library/Fonts/SFCompactRounded-Medium.otf .SF Compact Rounded\n",
      "/Library/Fonts/KozGoPr6N-Light.otf Kozuka Gothic Pr6N\n",
      "/Library/Fonts/KozGoPro-Medium.otf Kozuka Gothic Pro\n",
      "/System/Library/Fonts/AquaKana.ttc .Aqua Kana\n",
      "/Library/Fonts/AdobeGothicStd-Bold.otf Adobe Gothic Std\n",
      "/System/Library/Fonts/LucidaGrande.ttc Lucida Grande\n",
      "/System/Library/Fonts/SFNSDisplay.ttf System Font\n",
      "/System/Library/Fonts/SFCompactText-Regular.otf .SF Compact Text\n",
      "/Library/Fonts/KozGoPr6N-Heavy.otf Kozuka Gothic Pr6N\n",
      "/Library/Fonts/Microsoft/Calibri Italic.ttf Calibri\n",
      "/System/Library/Assets/com_apple_MobileAsset_Font4/32ee1600791572d4fc4b5664c1253d7073def14b.asset/AssetData/STHEITI.ttf STHeiti\n",
      "/System/Library/Fonts/SFCompactText-Bold.otf .SF Compact Text\n",
      "/Library/Fonts/Microsoft/Calibri Bold.ttf Calibri\n",
      "/Library/Fonts/KozGoPr6N-Bold.otf Kozuka Gothic Pr6N\n",
      "/System/Library/Fonts/SFCompactDisplay-Medium.otf .SF Compact Display\n",
      "/System/Library/Fonts/SFCompactRounded-Black.otf .SF Compact Rounded\n",
      "/System/Library/Fonts/ヒラギノ角ゴシック W1.ttc Hiragino Sans\n",
      "/System/Library/Fonts/SFCompactRounded-Heavy.otf .SF Compact Rounded\n"
     ]
    },
    {
     "name": "stderr",
     "output_type": "stream",
     "text": [
      "cmap subtable is reported as having zero length: platformID 1, platEncID 0, format 0 offset 20. Skipping table.\n"
     ]
    },
    {
     "name": "stdout",
     "output_type": "stream",
     "text": [
      "/System/Library/Fonts/SFCompactDisplay-Regular.otf .SF Compact Display\n"
     ]
    },
    {
     "name": "stderr",
     "output_type": "stream",
     "text": [
      "cmap subtable is reported as having zero length: platformID 1, platEncID 0, format 0 offset 20. Skipping table.\n"
     ]
    },
    {
     "name": "stdout",
     "output_type": "stream",
     "text": [
      "/System/Library/Fonts/SFCompactDisplay-Ultralight.otf .SF Compact Display\n",
      "/Library/Fonts/Microsoft/Lucida Sans Unicode.ttf Lucida Sans Unicode\n",
      "/Library/Fonts/AdobeMingStd-Light.otf Adobe Ming Std\n",
      "/System/Library/Fonts/SFCompactText-Medium.otf .SF Compact Text\n",
      "/Library/Fonts/AdobeFanHeitiStd-Bold.otf Adobe Fan Heiti Std\n",
      "/System/Library/Fonts/ヒラギノ丸ゴ ProN W4.ttc Hiragino Maru Gothic Pro\n",
      "/Library/Fonts/Microsoft/Calibri Bold Italic.ttf Calibri\n",
      "/Library/Fonts/Microsoft/SimHei.ttf SimHei\n",
      "/System/Library/Fonts/Menlo.ttc Menlo\n",
      "/Library/Fonts/KozMinPro-Bold.otf Kozuka Mincho Pro\n",
      "/Library/Fonts/KozGoPro-Light.otf Kozuka Gothic Pro\n",
      "/Library/Fonts/AppleMyungjo.ttf AppleMyungjo\n"
     ]
    },
    {
     "ename": "AssertionError",
     "evalue": "corrupt cmap table format 12 (data length: 31520, header length: 31520)",
     "output_type": "error",
     "traceback": [
      "\u001b[0;31m---------------------------------------------------------------------------\u001b[0m",
      "\u001b[0;31mKeyError\u001b[0m                                  Traceback (most recent call last)",
      "\u001b[0;32m/Library/Frameworks/Python.framework/Versions/3.6/lib/python3.6/site-packages/fontTools/ttLib/ttFont.py\u001b[0m in \u001b[0;36m__getitem__\u001b[0;34m(self, tag)\u001b[0m\n\u001b[1;32m    371\u001b[0m                 \u001b[0;32mtry\u001b[0m\u001b[0;34m:\u001b[0m\u001b[0;34m\u001b[0m\u001b[0m\n\u001b[0;32m--> 372\u001b[0;31m                         \u001b[0;32mreturn\u001b[0m \u001b[0mself\u001b[0m\u001b[0;34m.\u001b[0m\u001b[0mtables\u001b[0m\u001b[0;34m[\u001b[0m\u001b[0mtag\u001b[0m\u001b[0;34m]\u001b[0m\u001b[0;34m\u001b[0m\u001b[0m\n\u001b[0m\u001b[1;32m    373\u001b[0m                 \u001b[0;32mexcept\u001b[0m \u001b[0mKeyError\u001b[0m\u001b[0;34m:\u001b[0m\u001b[0;34m\u001b[0m\u001b[0m\n",
      "\u001b[0;31mKeyError\u001b[0m: 'cmap'",
      "\nDuring handling of the above exception, another exception occurred:\n",
      "\u001b[0;31mAssertionError\u001b[0m                            Traceback (most recent call last)",
      "\u001b[0;32m<ipython-input-1-061bf5a28bd3>\u001b[0m in \u001b[0;36m<module>\u001b[0;34m\u001b[0m\n\u001b[1;32m     15\u001b[0m \u001b[0;34m\u001b[0m\u001b[0m\n\u001b[1;32m     16\u001b[0m \u001b[0;32mfor\u001b[0m \u001b[0mi\u001b[0m\u001b[0;34m,\u001b[0m \u001b[0mfont\u001b[0m \u001b[0;32min\u001b[0m \u001b[0menumerate\u001b[0m\u001b[0;34m(\u001b[0m\u001b[0mfont_info\u001b[0m\u001b[0;34m)\u001b[0m\u001b[0;34m:\u001b[0m\u001b[0;34m\u001b[0m\u001b[0m\n\u001b[0;32m---> 17\u001b[0;31m     \u001b[0;32mif\u001b[0m \u001b[0mchar_in_font\u001b[0m\u001b[0;34m(\u001b[0m\u001b[0muni_char\u001b[0m\u001b[0;34m,\u001b[0m \u001b[0mTTFont\u001b[0m\u001b[0;34m(\u001b[0m\u001b[0mfont\u001b[0m\u001b[0;34m[\u001b[0m\u001b[0;36m0\u001b[0m\u001b[0;34m]\u001b[0m\u001b[0;34m,\u001b[0m \u001b[0mfontNumber\u001b[0m\u001b[0;34m=\u001b[0m\u001b[0;36m0\u001b[0m\u001b[0;34m)\u001b[0m\u001b[0;34m)\u001b[0m\u001b[0;34m:\u001b[0m\u001b[0;34m\u001b[0m\u001b[0m\n\u001b[0m\u001b[1;32m     18\u001b[0m         \u001b[0mprint\u001b[0m\u001b[0;34m(\u001b[0m\u001b[0mfont\u001b[0m\u001b[0;34m[\u001b[0m\u001b[0;36m0\u001b[0m\u001b[0;34m]\u001b[0m\u001b[0;34m,\u001b[0m \u001b[0mfont\u001b[0m\u001b[0;34m[\u001b[0m\u001b[0;36m1\u001b[0m\u001b[0;34m]\u001b[0m\u001b[0;34m)\u001b[0m\u001b[0;34m\u001b[0m\u001b[0m\n",
      "\u001b[0;32m<ipython-input-1-061bf5a28bd3>\u001b[0m in \u001b[0;36mchar_in_font\u001b[0;34m(Unicode_char, font)\u001b[0m\n\u001b[1;32m      3\u001b[0m \u001b[0;34m\u001b[0m\u001b[0m\n\u001b[1;32m      4\u001b[0m \u001b[0;32mdef\u001b[0m \u001b[0mchar_in_font\u001b[0m\u001b[0;34m(\u001b[0m\u001b[0mUnicode_char\u001b[0m\u001b[0;34m,\u001b[0m \u001b[0mfont\u001b[0m\u001b[0;34m)\u001b[0m\u001b[0;34m:\u001b[0m\u001b[0;34m\u001b[0m\u001b[0m\n\u001b[0;32m----> 5\u001b[0;31m     \u001b[0;32mfor\u001b[0m \u001b[0mcmap\u001b[0m \u001b[0;32min\u001b[0m \u001b[0mfont\u001b[0m\u001b[0;34m[\u001b[0m\u001b[0;34m'cmap'\u001b[0m\u001b[0;34m]\u001b[0m\u001b[0;34m.\u001b[0m\u001b[0mtables\u001b[0m\u001b[0;34m:\u001b[0m\u001b[0;34m\u001b[0m\u001b[0m\n\u001b[0m\u001b[1;32m      6\u001b[0m         \u001b[0;32mif\u001b[0m \u001b[0mcmap\u001b[0m\u001b[0;34m.\u001b[0m\u001b[0misUnicode\u001b[0m\u001b[0;34m(\u001b[0m\u001b[0;34m)\u001b[0m\u001b[0;34m:\u001b[0m\u001b[0;34m\u001b[0m\u001b[0m\n\u001b[1;32m      7\u001b[0m             \u001b[0;32mif\u001b[0m \u001b[0mord\u001b[0m\u001b[0;34m(\u001b[0m\u001b[0mUnicode_char\u001b[0m\u001b[0;34m)\u001b[0m \u001b[0;32min\u001b[0m \u001b[0mcmap\u001b[0m\u001b[0;34m.\u001b[0m\u001b[0mcmap\u001b[0m\u001b[0;34m:\u001b[0m\u001b[0;34m\u001b[0m\u001b[0m\n",
      "\u001b[0;32m/Library/Frameworks/Python.framework/Versions/3.6/lib/python3.6/site-packages/fontTools/ttLib/ttFont.py\u001b[0m in \u001b[0;36m__getitem__\u001b[0;34m(self, tag)\u001b[0m\n\u001b[1;32m    389\u001b[0m                                 \u001b[0mlog\u001b[0m\u001b[0;34m.\u001b[0m\u001b[0mdebug\u001b[0m\u001b[0;34m(\u001b[0m\u001b[0;34m\"Decompiling '%s' table\"\u001b[0m\u001b[0;34m,\u001b[0m \u001b[0mtag\u001b[0m\u001b[0;34m)\u001b[0m\u001b[0;34m\u001b[0m\u001b[0m\n\u001b[1;32m    390\u001b[0m                                 \u001b[0;32mtry\u001b[0m\u001b[0;34m:\u001b[0m\u001b[0;34m\u001b[0m\u001b[0m\n\u001b[0;32m--> 391\u001b[0;31m                                         \u001b[0mtable\u001b[0m\u001b[0;34m.\u001b[0m\u001b[0mdecompile\u001b[0m\u001b[0;34m(\u001b[0m\u001b[0mdata\u001b[0m\u001b[0;34m,\u001b[0m \u001b[0mself\u001b[0m\u001b[0;34m)\u001b[0m\u001b[0;34m\u001b[0m\u001b[0m\n\u001b[0m\u001b[1;32m    392\u001b[0m                                 \u001b[0;32mexcept\u001b[0m\u001b[0;34m:\u001b[0m\u001b[0;34m\u001b[0m\u001b[0m\n\u001b[1;32m    393\u001b[0m                                         \u001b[0;32mif\u001b[0m \u001b[0;32mnot\u001b[0m \u001b[0mself\u001b[0m\u001b[0;34m.\u001b[0m\u001b[0mignoreDecompileErrors\u001b[0m\u001b[0;34m:\u001b[0m\u001b[0;34m\u001b[0m\u001b[0m\n",
      "\u001b[0;32m/Library/Frameworks/Python.framework/Versions/3.6/lib/python3.6/site-packages/fontTools/ttLib/tables/_c_m_a_p.py\u001b[0m in \u001b[0;36mdecompile\u001b[0;34m(self, data, ttFont)\u001b[0m\n\u001b[1;32m     94\u001b[0m                         \u001b[0;31m# any other data gets decompiled only when an attribute of the\u001b[0m\u001b[0;34m\u001b[0m\u001b[0;34m\u001b[0m\u001b[0m\n\u001b[1;32m     95\u001b[0m                         \u001b[0;31m# subtable is referenced.\u001b[0m\u001b[0;34m\u001b[0m\u001b[0;34m\u001b[0m\u001b[0m\n\u001b[0;32m---> 96\u001b[0;31m                         \u001b[0mtable\u001b[0m\u001b[0;34m.\u001b[0m\u001b[0mdecompileHeader\u001b[0m\u001b[0;34m(\u001b[0m\u001b[0mdata\u001b[0m\u001b[0;34m[\u001b[0m\u001b[0moffset\u001b[0m\u001b[0;34m:\u001b[0m\u001b[0moffset\u001b[0m\u001b[0;34m+\u001b[0m\u001b[0mint\u001b[0m\u001b[0;34m(\u001b[0m\u001b[0mlength\u001b[0m\u001b[0;34m)\u001b[0m\u001b[0;34m]\u001b[0m\u001b[0;34m,\u001b[0m \u001b[0mttFont\u001b[0m\u001b[0;34m)\u001b[0m\u001b[0;34m\u001b[0m\u001b[0m\n\u001b[0m\u001b[1;32m     97\u001b[0m                         \u001b[0;32mif\u001b[0m \u001b[0moffset\u001b[0m \u001b[0;32min\u001b[0m \u001b[0mseenOffsets\u001b[0m\u001b[0;34m:\u001b[0m\u001b[0;34m\u001b[0m\u001b[0m\n\u001b[1;32m     98\u001b[0m                                 \u001b[0mtable\u001b[0m\u001b[0;34m.\u001b[0m\u001b[0mdata\u001b[0m \u001b[0;34m=\u001b[0m \u001b[0;32mNone\u001b[0m \u001b[0;31m# Mark as decompiled\u001b[0m\u001b[0;34m\u001b[0m\u001b[0m\n",
      "\u001b[0;32m/Library/Frameworks/Python.framework/Versions/3.6/lib/python3.6/site-packages/fontTools/ttLib/tables/_c_m_a_p.py\u001b[0m in \u001b[0;36mdecompileHeader\u001b[0;34m(self, data, ttFont)\u001b[0m\n\u001b[1;32m    919\u001b[0m         \u001b[0;32mdef\u001b[0m \u001b[0mdecompileHeader\u001b[0m\u001b[0;34m(\u001b[0m\u001b[0mself\u001b[0m\u001b[0;34m,\u001b[0m \u001b[0mdata\u001b[0m\u001b[0;34m,\u001b[0m \u001b[0mttFont\u001b[0m\u001b[0;34m)\u001b[0m\u001b[0;34m:\u001b[0m\u001b[0;34m\u001b[0m\u001b[0m\n\u001b[1;32m    920\u001b[0m                 \u001b[0mformat\u001b[0m\u001b[0;34m,\u001b[0m \u001b[0mreserved\u001b[0m\u001b[0;34m,\u001b[0m \u001b[0mlength\u001b[0m\u001b[0;34m,\u001b[0m \u001b[0mlanguage\u001b[0m\u001b[0;34m,\u001b[0m \u001b[0mnGroups\u001b[0m \u001b[0;34m=\u001b[0m \u001b[0mstruct\u001b[0m\u001b[0;34m.\u001b[0m\u001b[0munpack\u001b[0m\u001b[0;34m(\u001b[0m\u001b[0;34m\">HHLLL\"\u001b[0m\u001b[0;34m,\u001b[0m \u001b[0mdata\u001b[0m\u001b[0;34m[\u001b[0m\u001b[0;34m:\u001b[0m\u001b[0;36m16\u001b[0m\u001b[0;34m]\u001b[0m\u001b[0;34m)\u001b[0m\u001b[0;34m\u001b[0m\u001b[0m\n\u001b[0;32m--> 921\u001b[0;31m                 \u001b[0;32massert\u001b[0m \u001b[0mlen\u001b[0m\u001b[0;34m(\u001b[0m\u001b[0mdata\u001b[0m\u001b[0;34m)\u001b[0m \u001b[0;34m==\u001b[0m \u001b[0;34m(\u001b[0m\u001b[0;36m16\u001b[0m \u001b[0;34m+\u001b[0m \u001b[0mnGroups\u001b[0m\u001b[0;34m*\u001b[0m\u001b[0;36m12\u001b[0m\u001b[0;34m)\u001b[0m \u001b[0;34m==\u001b[0m \u001b[0;34m(\u001b[0m\u001b[0mlength\u001b[0m\u001b[0;34m)\u001b[0m\u001b[0;34m,\u001b[0m \u001b[0;34m\"corrupt cmap table format %d (data length: %d, header length: %d)\"\u001b[0m \u001b[0;34m%\u001b[0m \u001b[0;34m(\u001b[0m\u001b[0mself\u001b[0m\u001b[0;34m.\u001b[0m\u001b[0mformat\u001b[0m\u001b[0;34m,\u001b[0m \u001b[0mlen\u001b[0m\u001b[0;34m(\u001b[0m\u001b[0mdata\u001b[0m\u001b[0;34m)\u001b[0m\u001b[0;34m,\u001b[0m \u001b[0mlength\u001b[0m\u001b[0;34m)\u001b[0m\u001b[0;34m\u001b[0m\u001b[0m\n\u001b[0m\u001b[1;32m    922\u001b[0m                 \u001b[0mself\u001b[0m\u001b[0;34m.\u001b[0m\u001b[0mformat\u001b[0m \u001b[0;34m=\u001b[0m \u001b[0mformat\u001b[0m\u001b[0;34m\u001b[0m\u001b[0m\n\u001b[1;32m    923\u001b[0m                 \u001b[0mself\u001b[0m\u001b[0;34m.\u001b[0m\u001b[0mreserved\u001b[0m \u001b[0;34m=\u001b[0m \u001b[0mreserved\u001b[0m\u001b[0;34m\u001b[0m\u001b[0m\n",
      "\u001b[0;31mAssertionError\u001b[0m: corrupt cmap table format 12 (data length: 31520, header length: 31520)"
     ]
    }
   ],
   "source": [
    "from fontTools.ttLib import TTFont\n",
    "import matplotlib.font_manager as mfm\n",
    "\n",
    "def char_in_font(Unicode_char, font):\n",
    "    for cmap in font['cmap'].tables:\n",
    "        if cmap.isUnicode():\n",
    "            if ord(Unicode_char) in cmap.cmap:\n",
    "                return True\n",
    "    return False\n",
    "\n",
    "uni_char =  u\"\\u2198\"\n",
    "# or uni_char = u\"\\u2739\"\n",
    "\n",
    "font_info = [(f.fname, f.name) for f in mfm.fontManager.ttflist]\n",
    "\n",
    "for i, font in enumerate(font_info):\n",
    "    if char_in_font(uni_char, TTFont(font[0], fontNumber=0)):\n",
    "        print(font[0], font[1])"
   ]
  },
  {
   "cell_type": "code",
   "execution_count": null,
   "metadata": {},
   "outputs": [],
   "source": [
    "#/Library/Frameworks/Python.framework/Versions/3.6/lib/python3.6/site-packages/matplotlib/mpl-data/fonts/ttf/DejaVuSansMono-Bold.ttf DejaVu Sans Mono"
   ]
  },
  {
   "cell_type": "code",
   "execution_count": 3,
   "metadata": {},
   "outputs": [
    {
     "name": "stderr",
     "output_type": "stream",
     "text": [
      "findfont: Font family ['OpenSymbol'] not found. Falling back to DejaVu Sans.\n"
     ]
    },
    {
     "data": {
      "image/png": "[encoded data removed]",
      "text/plain": [
       "<Figure size 432x288 with 1 Axes>"
      ]
     },
     "metadata": {
      "needs_background": "light"
     },
     "output_type": "display_data"
    }
   ],
   "source": [
    "import matplotlib.pyplot as plt\n",
    "import matplotlib.font_manager as mfm\n",
    "\n",
    "font_path = '/Library/Frameworks/Python.framework/Versions/3.6/lib/python3.6/site-packages/matplotlib/mpl-data/fonts/ttf/DejaVuSansMono-Bold.ttf DejaVu Sans Mono'\n",
    "prop = mfm.FontProperties(family='OpenSymbol')\n",
    "plt.text(0.5, 0.5, s=uni_char, fontproperties=prop, fontsize=20)\n",
    "plt.show()"
   ]
  },
  {
   "cell_type": "code",
   "execution_count": null,
   "metadata": {},
   "outputs": [],
   "source": []
  }
 ],
 "metadata": {
  "kernelspec": {
   "display_name": "Python 3",
   "language": "python",
   "name": "python3"
  },
  "language_info": {
   "codemirror_mode": {
    "name": "ipython",
    "version": 3
   },
   "file_extension": ".py",
   "mimetype": "text/x-python",
   "name": "python",
   "nbconvert_exporter": "python",
   "pygments_lexer": "ipython3",
   "version": "3.6.1"
  }
 },
 "nbformat": 4,
 "nbformat_minor": 2
}
